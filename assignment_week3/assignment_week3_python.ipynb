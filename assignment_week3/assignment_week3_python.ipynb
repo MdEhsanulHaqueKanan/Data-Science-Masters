{
 "cells": [
  {
   "cell_type": "markdown",
   "id": "2a2a86ce-ea40-41e7-b053-c7988fbb9f17",
   "metadata": {},
   "source": [
    "Q1. Create a python program to sort the given list of tuples based on integer value using a\n",
    "lambda function.\n",
    "[('Sachin Tendulkar', 34357), ('Ricky Ponting', 27483), ('Jack Kallis', 25534), ('Virat Kohli', 24936)]"
   ]
  },
  {
   "cell_type": "markdown",
   "id": "9546ce96-9fd2-409c-9e5d-f561424fe6ce",
   "metadata": {},
   "source": [
    "Answer: Here is the code:"
   ]
  },
  {
   "cell_type": "code",
   "execution_count": 8,
   "id": "b687952e-c0d6-42e2-8ce5-194e62804de7",
   "metadata": {},
   "outputs": [
    {
     "name": "stdout",
     "output_type": "stream",
     "text": [
      "[('Virat Kohli', 24936), ('Jack Kallis', 25534), ('Ricky Ponting', 27483), ('Sachin Tendulkar', 34357)]\n"
     ]
    }
   ],
   "source": [
    "# Define the list of tuples\n",
    "list_of_tuples = [('Sachin Tendulkar', 34357), ('Ricky Ponting', 27483), ('Jack Kallis', 25534), ('Virat Kohli', 24936)]\n",
    "\n",
    "# Sort the list using a lambda function as the key\n",
    "sorted_list = sorted(list_of_tuples, key=lambda x: x[1])\n",
    "\n",
    "# Print the sorted list\n",
    "print(sorted_list)"
   ]
  },
  {
   "cell_type": "markdown",
   "id": "54ccc8de-dc22-43ed-b404-c1ac24cac999",
   "metadata": {},
   "source": [
    "Q2. Write a Python Program to find the squares of all the numbers in the given list of integers using\n",
    "lambda and map functions.\n",
    "[1, 2, 3, 4, 5, 6, 7, 8, 9, 10]"
   ]
  },
  {
   "cell_type": "markdown",
   "id": "a9d40b34-19c5-4cd0-8e58-ba12002fafc8",
   "metadata": {},
   "source": [
    "Answer: Here is the code:"
   ]
  },
  {
   "cell_type": "code",
   "execution_count": 9,
   "id": "6417cfe9-fc74-4b73-a4a8-705f8ce37ef4",
   "metadata": {},
   "outputs": [
    {
     "name": "stdout",
     "output_type": "stream",
     "text": [
      "[1, 4, 9, 16, 25, 36, 49, 64, 81, 100]\n"
     ]
    }
   ],
   "source": [
    "# Define the list of integers\n",
    "list_of_integers = [1, 2, 3, 4, 5, 6, 7, 8, 9, 10]\n",
    "\n",
    "# Define a lambda function to square a number\n",
    "square = lambda x: x**2\n",
    "\n",
    "# Use map function to apply the lambda function to each element of the list\n",
    "list_of_squares = list(map(square, list_of_integers))\n",
    "\n",
    "# Print the list of squares\n",
    "print(list_of_squares)"
   ]
  },
  {
   "cell_type": "markdown",
   "id": "431cd174-2d3f-487d-aff7-ac14c5ca75a3",
   "metadata": {},
   "source": [
    "Q3. Write a python program to convert the given list of integers into a tuple of strings. Use map and\n",
    "lambda functions\n",
    "Given String: [1, 2, 3, 4, 5, 6, 7, 8, 9, 10]\n",
    "Expected output: ('1', '2', '3', '4', '5', '6', '7', '8', '9', '10')"
   ]
  },
  {
   "cell_type": "markdown",
   "id": "07258435-34a6-4b68-9b32-67f6834862ac",
   "metadata": {},
   "source": [
    "Answer: Here is the code:"
   ]
  },
  {
   "cell_type": "code",
   "execution_count": 10,
   "id": "927153d1-e6af-4251-9524-06fd124ed49f",
   "metadata": {},
   "outputs": [
    {
     "name": "stdout",
     "output_type": "stream",
     "text": [
      "['1', '2', '3', '4', '5', '6', '7', '8', '9', '10']\n"
     ]
    }
   ],
   "source": [
    "# Define the list of integers\n",
    "list_of_integers = [1, 2, 3, 4, 5, 6, 7, 8, 9, 10]\n",
    "\n",
    "# Define a lambda function to convert the integers into strings\n",
    "strings = lambda x: str(x)\n",
    "\n",
    "# Use map function to apply the lambda function to each element of the list\n",
    "list_of_strings = list(map(strings, list_of_integers))\n",
    "\n",
    "# Print the list of squares\n",
    "print(list_of_strings)"
   ]
  },
  {
   "cell_type": "markdown",
   "id": "6e05704f-f49b-4470-9cc6-516684cb548b",
   "metadata": {},
   "source": [
    "Q4. Write a python program using reduce function to compute the product of a list containing numbers\n",
    "from 1 to 25."
   ]
  },
  {
   "cell_type": "markdown",
   "id": "f47a8fc7-f6a8-47cb-9f97-b0d220a6677e",
   "metadata": {},
   "source": [
    "Answer: Here is the code:"
   ]
  },
  {
   "cell_type": "code",
   "execution_count": 12,
   "id": "b4e21216-4a79-4572-8501-ff517ec1a28b",
   "metadata": {},
   "outputs": [
    {
     "name": "stdout",
     "output_type": "stream",
     "text": [
      "15511210043330985984000000\n"
     ]
    }
   ],
   "source": [
    "# Import the reduce function from functools module\n",
    "from functools import reduce\n",
    "\n",
    "# Define the list of numbers from 1 to 25\n",
    "list_of_numbers = list(range(1, 26))\n",
    "\n",
    "# Define a lambda function to multiply two numbers\n",
    "multiply = lambda x, y: x * y\n",
    "\n",
    "# Use reduce function to apply the lambda function to each pair of elements in the list\n",
    "product = reduce(multiply, list_of_numbers)\n",
    "\n",
    "# Print the product\n",
    "print(product)"
   ]
  },
  {
   "cell_type": "markdown",
   "id": "492b47b2-e1c6-432c-bf7e-d89cf63ed365",
   "metadata": {},
   "source": [
    "Q5. Write a python program to filter the numbers in a given list that are divisible by 2 and 3 using the\n",
    "filter function.\n",
    "[2, 3, 6, 9, 27, 60, 90, 120, 55, 46]"
   ]
  },
  {
   "cell_type": "markdown",
   "id": "fe474f14-6ad6-4c19-994d-18f9ee14c331",
   "metadata": {},
   "source": [
    "Answer: Here is the code:"
   ]
  },
  {
   "cell_type": "code",
   "execution_count": 13,
   "id": "cbc241ed-072f-4f41-b202-64835c262ed5",
   "metadata": {},
   "outputs": [
    {
     "name": "stdout",
     "output_type": "stream",
     "text": [
      "[6, 60, 90, 120]\n"
     ]
    }
   ],
   "source": [
    "# Define the list of numbers\n",
    "list_of_numbers = [2, 3, 6, 9, 27, 60, 90, 120, 55, 46]\n",
    "\n",
    "# Define a lambda function to check if a number is divisible by 2 and 3\n",
    "divisible = lambda x: x % 2 == 0 and x % 3 == 0\n",
    "\n",
    "# Use filter function to apply the lambda function to each element of the list\n",
    "filtered_list = list(filter(divisible, list_of_numbers))\n",
    "\n",
    "# Print the filtered list\n",
    "print(filtered_list)"
   ]
  },
  {
   "cell_type": "markdown",
   "id": "1efb13c3-cbcc-4a08-89ba-99eceff4fe9f",
   "metadata": {},
   "source": [
    "Q6. Write a python program to find palindromes in the given list of strings using lambda and filter\n",
    "function.\n",
    "['python', 'php', 'aba', 'radar', 'level']"
   ]
  },
  {
   "cell_type": "markdown",
   "id": "8ac44b93-a600-4ebc-9990-a1d177bd2827",
   "metadata": {},
   "source": [
    "Answer: Here is the code:"
   ]
  },
  {
   "cell_type": "code",
   "execution_count": 14,
   "id": "8336a4c1-0a3e-48e7-a7c8-15d4db277860",
   "metadata": {},
   "outputs": [
    {
     "name": "stdout",
     "output_type": "stream",
     "text": [
      "['php', 'aba', 'radar', 'level']\n"
     ]
    }
   ],
   "source": [
    "# Define the list of strings\n",
    "list_of_strings = ['python', 'php', 'aba', 'radar', 'level']\n",
    "\n",
    "# Define a lambda function to check if a string is a palindrome\n",
    "palindrome = lambda x: x == x[::-1]\n",
    "\n",
    "# Use filter function to apply the lambda function to each element of the list\n",
    "palindrome_list = list(filter(palindrome, list_of_strings))\n",
    "\n",
    "# Print the palindrome list\n",
    "print(palindrome_list)"
   ]
  },
  {
   "cell_type": "code",
   "execution_count": null,
   "id": "3550b6b4-8c3f-43c9-aeb9-cb0897331462",
   "metadata": {},
   "outputs": [],
   "source": []
  }
 ],
 "metadata": {
  "kernelspec": {
   "display_name": "Python 3 (ipykernel)",
   "language": "python",
   "name": "python3"
  },
  "language_info": {
   "codemirror_mode": {
    "name": "ipython",
    "version": 3
   },
   "file_extension": ".py",
   "mimetype": "text/x-python",
   "name": "python",
   "nbconvert_exporter": "python",
   "pygments_lexer": "ipython3",
   "version": "3.10.8"
  }
 },
 "nbformat": 4,
 "nbformat_minor": 5
}
