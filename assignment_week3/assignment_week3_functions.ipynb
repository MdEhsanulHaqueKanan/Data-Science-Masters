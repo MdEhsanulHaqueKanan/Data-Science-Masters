{
 "cells": [
  {
   "cell_type": "markdown",
   "id": "609d2ebe-6bf7-4ce6-ae77-fcaabed76ec7",
   "metadata": {},
   "source": [
    "Q1. Which keyword is used to create a function? Create a function to return a list of odd numbers in the\n",
    "range of 1 to 25."
   ]
  },
  {
   "cell_type": "markdown",
   "id": "10c46d62-9f8e-4f55-9956-1e663cd62640",
   "metadata": {},
   "source": [
    "Answer: The def keyword is used to create a function. \n",
    "Here is the function that returns a a list of odd numbers in the\n",
    "range of 1 to 25:"
   ]
  },
  {
   "cell_type": "code",
   "execution_count": 12,
   "id": "b15d9b10-7222-415f-87e9-9c305a91adf6",
   "metadata": {},
   "outputs": [
    {
     "name": "stdout",
     "output_type": "stream",
     "text": [
      "[1, 3, 5, 7, 9, 11, 13, 15, 17, 19, 21, 23, 25]\n"
     ]
    }
   ],
   "source": [
    "# Define a function to return a list of odd numbers in the range of 1 to 25\n",
    "def odd_numbers():\n",
    "  # Initialize an empty list to store the odd numbers\n",
    "  odd_list = []\n",
    "\n",
    "  # Loop through the numbers from 1 to 25\n",
    "  for num in range(1, 26):\n",
    "    # Check if the number is odd\n",
    "    if num % 2 == 1:\n",
    "      # Append the number to the odd list\n",
    "      odd_list.append(num)\n",
    "\n",
    "  # Return the odd list\n",
    "  return odd_list\n",
    "\n",
    "# Call the function and print the result\n",
    "print(odd_numbers())\n"
   ]
  },
  {
   "cell_type": "markdown",
   "id": "981190b4-1518-4a8d-be35-658ccadb1111",
   "metadata": {},
   "source": [
    "Q2. Why *args and **kwargs is used in some functions? Create a function each for *args and **kwargs to\n",
    "demonstrate their use."
   ]
  },
  {
   "cell_type": "markdown",
   "id": "eed82e8d-7e4e-4e51-a38b-5360b6d9c7ff",
   "metadata": {},
   "source": [
    "Answer: You can use *args and **kwargs as arguments of a function when you are unsure about the number of arguments to pass in the functions."
   ]
  },
  {
   "cell_type": "markdown",
   "id": "589b59fe-abf5-41c8-b81c-0c74ecd8c21c",
   "metadata": {},
   "source": [
    "Here is a function for *args:"
   ]
  },
  {
   "cell_type": "code",
   "execution_count": 13,
   "id": "5e7a6462-556d-4140-9a28-b93e1d6c88a4",
   "metadata": {},
   "outputs": [
    {
     "data": {
      "text/plain": [
       "((1, 2, 3, 4), 'ehsanul')"
      ]
     },
     "execution_count": 13,
     "metadata": {},
     "output_type": "execute_result"
    }
   ],
   "source": [
    "def test1(*args, a):\n",
    "    return args, a\n",
    "\n",
    "test1(1,2,3,4, a=\"ehsanul\")"
   ]
  },
  {
   "cell_type": "markdown",
   "id": "7fe7648d-fd59-4b76-954f-8b63987ce77f",
   "metadata": {},
   "source": [
    "Here is a function for **kwargs:"
   ]
  },
  {
   "cell_type": "code",
   "execution_count": 14,
   "id": "d3a35514-1153-4f08-b8bf-5bb093ef67a6",
   "metadata": {},
   "outputs": [
    {
     "data": {
      "text/plain": [
       "((2, 3, 4, 5), {'a': 'ëhsanul', 'b': 'haque'})"
      ]
     },
     "execution_count": 14,
     "metadata": {},
     "output_type": "execute_result"
    }
   ],
   "source": [
    "def test2(*args, **kwargs):\n",
    "    return args, kwargs\n",
    "\n",
    "test2(2,3,4,5, a=\"ëhsanul\", b=\"haque\")"
   ]
  },
  {
   "cell_type": "markdown",
   "id": "0c0d95d6-f5f8-48f9-aa09-4471c21c829f",
   "metadata": {},
   "source": [
    "Q3. What is an iterator in python? Name the method used to initialise the iterator object and the method\n",
    "used for iteration. Use these methods to print the first five elements of the given list [2, 4, 6, 8, 10, 12, 14, 16,\n",
    "18, 20]."
   ]
  },
  {
   "cell_type": "markdown",
   "id": "a08f30d4-c951-4e2b-9598-3144b0af3a7e",
   "metadata": {},
   "source": [
    "Answer: In Python, an iterator is an object that allows you to iterate over collections of data, such as lists, tuples, dictionaries, and sets.\n",
    "Iter() method is used to initialize the iterator object so that the instance of this object can be used for iterating.\n",
    "Iterators are implemented using two special methods in Python: iter() and next()"
   ]
  },
  {
   "cell_type": "markdown",
   "id": "0425a3fd-99be-4f67-80d0-de29f9c01780",
   "metadata": {},
   "source": [
    "Here is the code for printing first five elements of the given list [2, 4, 6, 8, 10, 12, 14, 16,\n",
    "18, 20]."
   ]
  },
  {
   "cell_type": "code",
   "execution_count": 15,
   "id": "152b2e20-326f-4eaa-880f-010274a35de2",
   "metadata": {},
   "outputs": [
    {
     "name": "stdout",
     "output_type": "stream",
     "text": [
      "2\n",
      "4\n",
      "6\n",
      "8\n",
      "10\n"
     ]
    }
   ],
   "source": [
    "# define a list\n",
    "my_list = [2, 4, 6, 8, 10, 12, 14, 16, 18, 20]\n",
    "\n",
    "# create an iterator from the list\n",
    "iterator = iter(my_list)\n",
    "\n",
    "# get the first element of the iterator\n",
    "print(next(iterator))  \n",
    "\n",
    "# get the second element of the iterator\n",
    "print(next(iterator))  \n",
    "\n",
    "# get the third element of the iterator\n",
    "print(next(iterator)) \n",
    "\n",
    "# get the fourth element of the iterator\n",
    "print(next(iterator)) \n",
    "\n",
    "# get the fifth element of the iterator\n",
    "print(next(iterator)) "
   ]
  },
  {
   "cell_type": "markdown",
   "id": "7c416d5b-3ab2-4938-b9df-1ec183953074",
   "metadata": {},
   "source": [
    "Q4. What is a generator function in python? Why yield keyword is used? Give an example of a generator\n",
    "function."
   ]
  },
  {
   "cell_type": "markdown",
   "id": "cce42811-a3de-41a1-89ce-9c6c4c5e05cd",
   "metadata": {},
   "source": [
    "Answer: In Python, a generator function is a method that allows you to declare a function that behaves like an iterator, providing a faster and easier way to create iterators.\n",
    "The yield keyword is used to control the flow of a generator function."
   ]
  },
  {
   "cell_type": "markdown",
   "id": "95bc8c1f-ebaa-4df7-b1b5-df662cbd19cd",
   "metadata": {},
   "source": [
    "Here is an example of a generator function:"
   ]
  },
  {
   "cell_type": "code",
   "execution_count": 16,
   "id": "5c307325-894f-4314-8304-c0564ea6693a",
   "metadata": {},
   "outputs": [
    {
     "name": "stdout",
     "output_type": "stream",
     "text": [
      "0\n",
      "1\n",
      "1\n",
      "2\n",
      "3\n",
      "5\n",
      "8\n",
      "13\n",
      "21\n",
      "34\n"
     ]
    }
   ],
   "source": [
    "def test_fib(n):\n",
    "    a,b = 0,1\n",
    "    for i in range(n):\n",
    "        yield a\n",
    "        a,b = b,a+b\n",
    "        \n",
    "for i in test_fib(10):\n",
    "    print(i)        "
   ]
  },
  {
   "cell_type": "markdown",
   "id": "5046c670-87b6-4f98-ac0a-13b401c759ea",
   "metadata": {},
   "source": [
    "Q5. Create a generator function for prime numbers less than 1000. Use the next() method to print the\n",
    "first 20 prime numbers."
   ]
  },
  {
   "cell_type": "markdown",
   "id": "c58603f0-cd66-4b59-a5e3-b7acef5ae8f5",
   "metadata": {},
   "source": [
    "Answer: Here is the code:"
   ]
  },
  {
   "cell_type": "code",
   "execution_count": 17,
   "id": "43bce9ad-b22b-4009-89a8-ae972ac44877",
   "metadata": {},
   "outputs": [
    {
     "name": "stdout",
     "output_type": "stream",
     "text": [
      "2\n",
      "3\n",
      "5\n",
      "7\n",
      "11\n",
      "13\n",
      "17\n",
      "19\n",
      "23\n",
      "29\n",
      "31\n",
      "37\n",
      "41\n",
      "43\n",
      "47\n",
      "53\n",
      "59\n",
      "61\n",
      "67\n",
      "71\n"
     ]
    }
   ],
   "source": [
    "def prime_generator():\n",
    "    # Initialize a list of primes\n",
    "    primes = []\n",
    "    # Start from 2, the smallest prime number\n",
    "    n = 2\n",
    "    # Loop until n reaches 1000\n",
    "    while n < 1000:\n",
    "        # Check if n is divisible by any of the primes\n",
    "        is_prime = True\n",
    "        for p in primes:\n",
    "            if n % p == 0:\n",
    "                is_prime = False\n",
    "                break\n",
    "        # If n is prime, add it to the list and yield it\n",
    "        if is_prime:\n",
    "            primes.append(n)\n",
    "            yield n\n",
    "        # Increment n by 1\n",
    "        n += 1\n",
    "\n",
    "# Create a generator object\n",
    "gen = prime_generator()\n",
    "# Print the first 20 prime numbers using next()\n",
    "for i in range(20):\n",
    "    print(next(gen))"
   ]
  },
  {
   "cell_type": "code",
   "execution_count": null,
   "id": "01d44d88-932f-4977-b2c3-bac728310e8a",
   "metadata": {},
   "outputs": [],
   "source": []
  }
 ],
 "metadata": {
  "kernelspec": {
   "display_name": "Python 3 (ipykernel)",
   "language": "python",
   "name": "python3"
  },
  "language_info": {
   "codemirror_mode": {
    "name": "ipython",
    "version": 3
   },
   "file_extension": ".py",
   "mimetype": "text/x-python",
   "name": "python",
   "nbconvert_exporter": "python",
   "pygments_lexer": "ipython3",
   "version": "3.10.8"
  }
 },
 "nbformat": 4,
 "nbformat_minor": 5
}
