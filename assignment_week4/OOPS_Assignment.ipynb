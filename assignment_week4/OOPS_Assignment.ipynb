{
 "cells": [
  {
   "cell_type": "markdown",
   "id": "e6c13a14-761a-4e5d-940f-81abc8d05147",
   "metadata": {},
   "source": [
    "Q1. Explain Class and Object with respect to Object-Oriented Programming. Give a suitable example."
   ]
  },
  {
   "cell_type": "markdown",
   "id": "8641244d-b9ae-42ad-9639-00c8a6fb76fd",
   "metadata": {},
   "source": [
    "Answer: In object-oriented programming (OOP), a class is a blueprint or a template for creating objects. It defines the properties (attributes) and behaviors (methods) that an object of that class should possess. \n",
    "In Python, we can define a class using \"class\" keyword. Here is an example:"
   ]
  },
  {
   "cell_type": "code",
   "execution_count": 1,
   "id": "b4eaf7e0-3431-4654-bd7f-d2c149c3c939",
   "metadata": {},
   "outputs": [
    {
     "name": "stdout",
     "output_type": "stream",
     "text": [
      "Alice\n",
      "30\n",
      "Hello, my name is Alice and I am 25 years old.\n",
      "Hello, my name is Bob and I am 30 years old.\n"
     ]
    }
   ],
   "source": [
    "class Person:\n",
    "    def __init__(self, name, age):\n",
    "        self.name = name\n",
    "        self.age = age\n",
    "\n",
    "    def say_hello(self):\n",
    "        print(f\"Hello, my name is {self.name} and I am {self.age} years old.\")\n",
    "\n",
    "# Creating objects (instances) of the Person class\n",
    "person1 = Person(\"Alice\", 25)\n",
    "person2 = Person(\"Bob\", 30)\n",
    "\n",
    "# Accessing attributes and calling methods of the objects\n",
    "print(person1.name)     \n",
    "print(person2.age)     \n",
    "\n",
    "person1.say_hello()     \n",
    "person2.say_hello()"
   ]
  },
  {
   "cell_type": "markdown",
   "id": "e48ad641-ad26-42d8-845e-69017796d2f6",
   "metadata": {},
   "source": [
    "In object-oriented programming (OOP), an object is an instance of a class. It represents a specific entity that has its own unique state and behavior, based on the blueprint defined by the class. Here is an example:"
   ]
  },
  {
   "cell_type": "code",
   "execution_count": 2,
   "id": "4f602ac6-578d-42c6-97de-bcae69177d9b",
   "metadata": {},
   "outputs": [
    {
     "name": "stdout",
     "output_type": "stream",
     "text": [
      "Toyota\n",
      "Mustang\n",
      "The Toyota Camry's engine has started.\n",
      "The Ford Mustang's engine has started.\n"
     ]
    }
   ],
   "source": [
    "class Car:\n",
    "    def __init__(self, brand, model, year):\n",
    "        self.brand = brand\n",
    "        self.model = model\n",
    "        self.year = year\n",
    "\n",
    "    def start_engine(self):\n",
    "        print(f\"The {self.brand} {self.model}'s engine has started.\")\n",
    "\n",
    "# Creating objects (instances) of the Car class\n",
    "car1 = Car(\"Toyota\", \"Camry\", 2021)\n",
    "car2 = Car(\"Ford\", \"Mustang\", 2022)\n",
    "\n",
    "# Accessing attributes and calling methods of the objects\n",
    "print(car1.brand)       \n",
    "print(car2.model)      \n",
    "\n",
    "car1.start_engine()    \n",
    "car2.start_engine() "
   ]
  },
  {
   "cell_type": "markdown",
   "id": "76bf58fc-bffa-48ad-b3a6-a618f9a5693d",
   "metadata": {},
   "source": [
    "Q2. Name the four pillars of OOPs."
   ]
  },
  {
   "cell_type": "markdown",
   "id": "a54278e4-596b-43ba-b49c-28828ccb1926",
   "metadata": {},
   "source": [
    "Answer: The four pillars of OOPs are:\n",
    "1. Encapsulation: Encapsulation hides the internal implementation details of an object, providing data protection and allowing controlled access to the object's properties.\n",
    "2. Inheritance: Inheritance allows derived classes to inherit the properties and behaviors of the parent class, promoting code reusability and establishing hierarchical relationships among classes.\n",
    "3. Polymorphism: Polymorphism allows objects to be treated as instances of their own class or as instances of any of their parent classes, providing flexibility and extensibility in designing and using objects.\n",
    "4. Abstraction: Abstraction focuses on essential features while hiding unnecessary details. "
   ]
  },
  {
   "cell_type": "markdown",
   "id": "784c87df-76e1-4472-9bdd-c25be22483c8",
   "metadata": {},
   "source": [
    "Q3. Explain why the __init__() function is used. Give a suitable example."
   ]
  },
  {
   "cell_type": "markdown",
   "id": "6b432127-1a70-4910-836c-a71662f13074",
   "metadata": {},
   "source": [
    "Answer: The __init__() function is a special method in Python classes that is automatically called when an object is created from the class. It is used to initialize the attributes of the object or perform any necessary setup operations.\n",
    "Here is an example:"
   ]
  },
  {
   "cell_type": "code",
   "execution_count": 3,
   "id": "59f9c80a-016e-44ae-a10e-535a13b33d0f",
   "metadata": {},
   "outputs": [
    {
     "name": "stdout",
     "output_type": "stream",
     "text": [
      "My name is Ehsanul and I am 32 years old.\n"
     ]
    }
   ],
   "source": [
    "class Person:\n",
    "    def __init__(self, name, age):\n",
    "        self.name = name\n",
    "        self.age = age\n",
    "\n",
    "    def introduce(self):\n",
    "        print(f\"My name is {self.name} and I am {self.age} years old.\")\n",
    "\n",
    "# Creating an object of the Person class\n",
    "person = Person(\"Ehsanul\", 32)\n",
    "\n",
    "# Calling the introduce() method of the object\n",
    "person.introduce()"
   ]
  },
  {
   "cell_type": "markdown",
   "id": "ccb0f2d5-868e-42e2-8760-ab6941f24752",
   "metadata": {},
   "source": [
    "Q4. Why self is used in OOPs?"
   ]
  },
  {
   "cell_type": "markdown",
   "id": "3c727818-d2d7-4f08-9c09-0f34676ca020",
   "metadata": {},
   "source": [
    "Answer: In object-oriented programming (OOP), self is a convention used to refer to the instance of the class itself within the class methods. It is a way to refer to the object or instance on which a method is being called."
   ]
  },
  {
   "cell_type": "markdown",
   "id": "7a69226d-f0d6-4a67-8362-9e82b7f97479",
   "metadata": {},
   "source": [
    "Q5. What is inheritance? Give an example for each type of inheritance."
   ]
  },
  {
   "cell_type": "markdown",
   "id": "fbdff49a-69ba-4952-b98c-200c9718c172",
   "metadata": {},
   "source": [
    "Answer: Inheritance is a fundamental concept in object-oriented programming (OOP) that allows a class to inherit attributes and behaviors from another class. The class that inherits is called the subclass, and the class being inherited from is called the superclass."
   ]
  },
  {
   "cell_type": "markdown",
   "id": "5a54c888-238f-4d4c-a707-9279c3407a61",
   "metadata": {},
   "source": [
    "There are four types of inheritance:\n",
    "\n",
    "1. Single Inheritance:\n",
    "In single inheritance, a subclass inherits from a single base class. It forms a one-to-one inheritance relationship.\n",
    "Example:"
   ]
  },
  {
   "cell_type": "code",
   "execution_count": 4,
   "id": "d9a66a9a-21ac-45a4-a9ba-15ffef8dff1f",
   "metadata": {},
   "outputs": [
    {
     "name": "stdout",
     "output_type": "stream",
     "text": [
      "Making sound...\n",
      "Woof!\n"
     ]
    }
   ],
   "source": [
    "class Animal:\n",
    "    def sound(self):\n",
    "        print(\"Making sound...\")\n",
    "\n",
    "class Dog(Animal):\n",
    "    def bark(self):\n",
    "        print(\"Woof!\")\n",
    "\n",
    "# Creating an object of the Dog class\n",
    "dog = Dog()\n",
    "\n",
    "# Accessing methods of both base and derived class\n",
    "dog.sound() \n",
    "dog.bark()    "
   ]
  },
  {
   "cell_type": "markdown",
   "id": "962f4f70-f8cd-4e4f-b093-84207df2474a",
   "metadata": {},
   "source": [
    "2. Multiple Inheritance:\n",
    "In multiple inheritance, a subclass inherits from multiple base classes. It allows a class to inherit attributes and behaviors from multiple sources.\n",
    "Example:"
   ]
  },
  {
   "cell_type": "code",
   "execution_count": 6,
   "id": "184b7db5-63fc-492f-9c33-a30986fa927f",
   "metadata": {},
   "outputs": [
    {
     "name": "stdout",
     "output_type": "stream",
     "text": [
      "Moving...\n",
      "Driving...\n",
      "Powered by electricity.\n"
     ]
    }
   ],
   "source": [
    "class Vehicle:\n",
    "    def move(self):\n",
    "        print(\"Moving...\")\n",
    "\n",
    "class Car(Vehicle):\n",
    "    def drive(self):\n",
    "        print(\"Driving...\")\n",
    "\n",
    "class Electric(Car):\n",
    "    def power(self):\n",
    "        print(\"Powered by electricity.\")\n",
    "\n",
    "# Creating an object of the Electric class\n",
    "electric_car = Electric()\n",
    "\n",
    "# Accessing methods of all the inherited classes\n",
    "electric_car.move()   \n",
    "electric_car.drive()   \n",
    "electric_car.power()   \n"
   ]
  },
  {
   "cell_type": "markdown",
   "id": "79283e80-e6f7-4780-bb92-65eb30b514aa",
   "metadata": {},
   "source": [
    "3. Multilevel Inheritance:\n",
    "In multilevel inheritance, a subclass inherits from another subclass, forming a parent-child-grandchild relationship.\n",
    "Example:"
   ]
  },
  {
   "cell_type": "code",
   "execution_count": 7,
   "id": "3c2ce4c2-9872-4555-9968-8172b972c15f",
   "metadata": {},
   "outputs": [
    {
     "name": "stdout",
     "output_type": "stream",
     "text": [
      "Making sound...\n",
      "Woof!\n",
      "Guarding...\n"
     ]
    }
   ],
   "source": [
    "class Animal:\n",
    "    def sound(self):\n",
    "        print(\"Making sound...\")\n",
    "\n",
    "class Dog(Animal):\n",
    "    def bark(self):\n",
    "        print(\"Woof!\")\n",
    "\n",
    "class GermanShepherd(Dog):\n",
    "    def guard(self):\n",
    "        print(\"Guarding...\")\n",
    "\n",
    "# Creating an object of the GermanShepherd class\n",
    "gs_dog = GermanShepherd()\n",
    "\n",
    "# Accessing methods of all the inherited classes\n",
    "gs_dog.sound()   \n",
    "gs_dog.bark()     \n",
    "gs_dog.guard()    \n"
   ]
  },
  {
   "cell_type": "markdown",
   "id": "45dcf1dd-3b27-4057-828f-88b696a635bc",
   "metadata": {},
   "source": [
    "4. Hierarchical Inheritance:\n",
    "In hierarchical inheritance, multiple subclasses inherit from a single base class. It results in a one-to-many inheritance relationship.\n",
    "\n",
    "Example:"
   ]
  },
  {
   "cell_type": "code",
   "execution_count": 9,
   "id": "22c220d8-2dc0-4d97-b354-4be11f4f773b",
   "metadata": {},
   "outputs": [
    {
     "name": "stdout",
     "output_type": "stream",
     "text": [
      "Drawing shape...\n",
      "Drawing a circle...\n",
      "Drawing shape...\n",
      "Drawing a rectangle...\n"
     ]
    }
   ],
   "source": [
    "class Shape:\n",
    "    def draw(self):\n",
    "        print(\"Drawing shape...\")\n",
    "\n",
    "class Circle(Shape):\n",
    "    def draw_circle(self):\n",
    "        print(\"Drawing a circle...\")\n",
    "\n",
    "class Rectangle(Shape):\n",
    "    def draw_rectangle(self):\n",
    "        print(\"Drawing a rectangle...\")\n",
    "\n",
    "# Creating objects of the Circle and Rectangle classes\n",
    "circle = Circle()\n",
    "rectangle = Rectangle()\n",
    "\n",
    "# Accessing methods of the base class and respective subclasses\n",
    "circle.draw()       \n",
    "circle.draw_circle()  \n",
    "rectangle.draw()   \n",
    "rectangle.draw_rectangle()\n"
   ]
  },
  {
   "cell_type": "code",
   "execution_count": null,
   "id": "8bab36bb-6d9c-42e1-9885-44e811ce9926",
   "metadata": {},
   "outputs": [],
   "source": []
  }
 ],
 "metadata": {
  "kernelspec": {
   "display_name": "Python 3 (ipykernel)",
   "language": "python",
   "name": "python3"
  },
  "language_info": {
   "codemirror_mode": {
    "name": "ipython",
    "version": 3
   },
   "file_extension": ".py",
   "mimetype": "text/x-python",
   "name": "python",
   "nbconvert_exporter": "python",
   "pygments_lexer": "ipython3",
   "version": "3.10.8"
  }
 },
 "nbformat": 4,
 "nbformat_minor": 5
}
