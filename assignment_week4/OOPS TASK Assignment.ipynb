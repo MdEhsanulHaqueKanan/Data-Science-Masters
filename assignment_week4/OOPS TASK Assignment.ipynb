{
 "cells": [
  {
   "cell_type": "markdown",
   "id": "bffa78f2-596d-4a01-920a-f3523605faa4",
   "metadata": {},
   "source": [
    "Q1. Create a vehicle class with an init method having instance variables as name_of_vehicle, max_speed\n",
    "and average_of_vehicle."
   ]
  },
  {
   "cell_type": "markdown",
   "id": "c9aa2a95-d2cb-4363-a1c6-fb30d07f9b00",
   "metadata": {},
   "source": [
    "Answer: Here is the code:"
   ]
  },
  {
   "cell_type": "code",
   "execution_count": 1,
   "id": "c72ccde7-2e01-4807-9e09-8bfae77a0fc2",
   "metadata": {},
   "outputs": [],
   "source": [
    "class Vehicle:\n",
    "    def __init__(self, name_of_vehicle, max_speed, average_of_vehicle):\n",
    "        self.name_of_vehicle = name_of_vehicle\n",
    "        self.max_speed = max_speed\n",
    "        self.average_of_vehicle = average_of_vehicle"
   ]
  },
  {
   "cell_type": "markdown",
   "id": "d24fa1eb-a414-4862-9285-671876a412f8",
   "metadata": {},
   "source": [
    "Q2. Create a child class car from the vehicle class created in Que 1, which will inherit the vehicle class.\n",
    "Create a method named seating_capacity which takes capacity as an argument and returns the name of\n",
    "the vehicle and its seating capacity."
   ]
  },
  {
   "cell_type": "markdown",
   "id": "8f0a48b5-2b6f-4244-9252-b8f2f77ac6b3",
   "metadata": {},
   "source": [
    "Answer: Here is the code:"
   ]
  },
  {
   "cell_type": "code",
   "execution_count": 2,
   "id": "cca27b73-ea0a-44b7-ab75-43c272a72473",
   "metadata": {},
   "outputs": [
    {
     "name": "stdout",
     "output_type": "stream",
     "text": [
      "The Car has a seating capacity of 4.\n"
     ]
    }
   ],
   "source": [
    "class Car(Vehicle):\n",
    "    def __init__(self, name_of_vehicle, max_speed, average_of_vehicle):\n",
    "        super().__init__(name_of_vehicle, max_speed, average_of_vehicle)\n",
    "\n",
    "    def seating_capacity(self, capacity):\n",
    "        return f\"The {self.name_of_vehicle} has a seating capacity of {capacity}.\"\n",
    "    \n",
    "# Creating an object of the Car class\n",
    "car = Car(\"Car\", 200, 50)\n",
    "\n",
    "# Calling the seating_capacity() method of the car object\n",
    "capacity = 4\n",
    "result = car.seating_capacity(capacity)\n",
    "print(result)    "
   ]
  },
  {
   "cell_type": "markdown",
   "id": "18fcb848-c685-4cf4-93b5-bd6b9de46bc0",
   "metadata": {},
   "source": [
    "Q3. What is multiple inheritance? Write a python code to demonstrate multiple inheritance."
   ]
  },
  {
   "cell_type": "markdown",
   "id": "f2bbfe7d-9e26-4cee-805d-00d0ca7f7abd",
   "metadata": {},
   "source": [
    "Answer: Multiple inheritance is a feature of object-oriented programming where a class can inherit attributes and behaviors from multiple parent classes. \n",
    "Here's an example:"
   ]
  },
  {
   "cell_type": "code",
   "execution_count": 3,
   "id": "5b932ede-2a5a-4c45-bc09-78869a7408bc",
   "metadata": {},
   "outputs": [
    {
     "name": "stdout",
     "output_type": "stream",
     "text": [
      "Car started.\n",
      "Car stopped.\n",
      "Airplane started.\n",
      "Airplane stopped.\n",
      "Airplane is flying.\n"
     ]
    }
   ],
   "source": [
    "class Vehicle:\n",
    "    def __init__(self, name):\n",
    "        self.name = name\n",
    "\n",
    "    def start(self):\n",
    "        print(f\"{self.name} started.\")\n",
    "\n",
    "    def stop(self):\n",
    "        print(f\"{self.name} stopped.\")\n",
    "\n",
    "\n",
    "class FlyableMachine:\n",
    "    def fly(self):\n",
    "        print(f\"{self.name} is flying.\")\n",
    "\n",
    "\n",
    "class Car(Vehicle):\n",
    "    def __init__(self, name):\n",
    "        super().__init__(name)\n",
    "\n",
    "\n",
    "class Airplane(Vehicle, FlyableMachine):\n",
    "    def __init__(self, name):\n",
    "        super().__init__(name)\n",
    "\n",
    "\n",
    "# Creating objects of the classes\n",
    "car = Car(\"Car\")\n",
    "airplane = Airplane(\"Airplane\")\n",
    "\n",
    "# Accessing the methods\n",
    "car.start()       \n",
    "car.stop()        \n",
    "\n",
    "airplane.start()  \n",
    "airplane.stop()   \n",
    "airplane.fly()    \n"
   ]
  },
  {
   "cell_type": "markdown",
   "id": "965f86e1-65bf-4a1a-831f-f5d73aefbb77",
   "metadata": {},
   "source": [
    "Q4. What are getter and setter in python? Create a class and create a getter and a setter method in this\n",
    "class."
   ]
  },
  {
   "cell_type": "markdown",
   "id": "1cf87272-33de-48fd-9ec1-457d67f27ee4",
   "metadata": {},
   "source": [
    "Answer: A getter is a method which is used to retrieve the value of an attribute. \n",
    "On the other hand, a getter is a method which is used to set the value of an attribute. \n",
    "Here is an example:"
   ]
  },
  {
   "cell_type": "code",
   "execution_count": 5,
   "id": "91ddbd19-5f38-49ba-b094-aa00a0b9b8ca",
   "metadata": {},
   "outputs": [
    {
     "name": "stdout",
     "output_type": "stream",
     "text": [
      "Alice\n",
      "Bob\n"
     ]
    }
   ],
   "source": [
    "class Person:\n",
    "    def __init__(self, name):\n",
    "        self._name = name   # Attribute with an underscore convention to indicate it's intended for internal use\n",
    "\n",
    "    def get_name(self):\n",
    "        return self._name\n",
    "\n",
    "    def set_name(self, name):\n",
    "        if isinstance(name, str):\n",
    "            self._name = name\n",
    "        else:\n",
    "            raise ValueError(\"Name must be a string.\")\n",
    "\n",
    "\n",
    "# Creating an object of the Person class\n",
    "person = Person(\"Alice\")\n",
    "\n",
    "# Using the getter method to retrieve the name attribute\n",
    "print(person.get_name())  \n",
    "\n",
    "# Using the setter method to modify the name attribute\n",
    "person.set_name(\"Bob\")\n",
    "print(person.get_name())  \n"
   ]
  },
  {
   "cell_type": "markdown",
   "id": "64176d38-1d35-4716-9df2-e4fc21844027",
   "metadata": {},
   "source": [
    "Q5.What is method overriding in python? Write a python code to demonstrate method overriding."
   ]
  },
  {
   "cell_type": "markdown",
   "id": "a2db26f4-76ce-4465-a216-5b9d8d1b1c8e",
   "metadata": {},
   "source": [
    "Answer: Method overriding is a feature in object-oriented programming where a subclass provides its own implementation of a method that is already defined in its parent class. It allows the subclass to modify or extend the behavior of the inherited method according to its specific requirements.\n",
    "\n",
    "Here's an example:"
   ]
  },
  {
   "cell_type": "code",
   "execution_count": 6,
   "id": "19a3dce4-b109-482e-8811-11a40060d197",
   "metadata": {},
   "outputs": [
    {
     "name": "stdout",
     "output_type": "stream",
     "text": [
      "Animal speaks.\n",
      "Dog barks.\n"
     ]
    }
   ],
   "source": [
    "class Animal:\n",
    "    def speak(self):\n",
    "        print(\"Animal speaks.\")\n",
    "\n",
    "\n",
    "class Dog(Animal):\n",
    "    def speak(self):\n",
    "        print(\"Dog barks.\")\n",
    "\n",
    "\n",
    "# Creating objects of the classes\n",
    "animal = Animal()\n",
    "dog = Dog()\n",
    "\n",
    "# Calling the speak() method\n",
    "animal.speak()  # Output: Animal speaks.\n",
    "dog.speak()     # Output: Dog barks."
   ]
  },
  {
   "cell_type": "code",
   "execution_count": null,
   "id": "8f46938b-5a04-40d1-a7e4-5a817e3d1c3a",
   "metadata": {},
   "outputs": [],
   "source": []
  }
 ],
 "metadata": {
  "kernelspec": {
   "display_name": "Python 3 (ipykernel)",
   "language": "python",
   "name": "python3"
  },
  "language_info": {
   "codemirror_mode": {
    "name": "ipython",
    "version": 3
   },
   "file_extension": ".py",
   "mimetype": "text/x-python",
   "name": "python",
   "nbconvert_exporter": "python",
   "pygments_lexer": "ipython3",
   "version": "3.10.8"
  }
 },
 "nbformat": 4,
 "nbformat_minor": 5
}
