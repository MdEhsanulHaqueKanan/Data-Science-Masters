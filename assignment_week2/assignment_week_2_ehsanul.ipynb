{
 "cells": [
  {
   "cell_type": "markdown",
   "id": "5fb4700a-4442-4219-be43-82c0a0a4dec7",
   "metadata": {},
   "source": [
    "Q1. How do you comment code in Python? What are the different types of comments?"
   ]
  },
  {
   "cell_type": "markdown",
   "id": "0c86805b-0476-4c37-a92e-d1106c458454",
   "metadata": {},
   "source": [
    "Answer: You can comment code in Python using the hash (#) symbol. Here is an example:"
   ]
  },
  {
   "cell_type": "code",
   "execution_count": 1,
   "id": "6be1c6a8-6682-4ac9-ba16-035a2c52f1ad",
   "metadata": {},
   "outputs": [
    {
     "name": "stdout",
     "output_type": "stream",
     "text": [
      "Hello, world!\n"
     ]
    }
   ],
   "source": [
    "# This is a comment\n",
    "print(\"Hello, world!\")"
   ]
  },
  {
   "cell_type": "raw",
   "id": "5f57360b-da38-41d0-911b-f41ba6e61148",
   "metadata": {},
   "source": [
    "In Python, there are three different types of comments. They are:\n",
    "\n",
    "1. Single-line comments\n",
    "Example:\n",
    "# This is a single-line comment\n",
    "\n",
    "2. Multi-line comments\n",
    "Example:\n",
    "\"\"\"\n",
    "This is a multi-line comment\n",
    "using triple quotes\n",
    "\"\"\"\n",
    "\n",
    "3. Docstring comments\n",
    "Example:\n",
    "def greet(name):\n",
    "    \"\"\"This function greets a person by name.\"\"\"\n",
    "    print(f\"Hello, {name}!\")"
   ]
  },
  {
   "cell_type": "markdown",
   "id": "92e2d3e0-41ee-478c-bcbc-eeceb51b7cc1",
   "metadata": {},
   "source": [
    "Q2. What are variables in Python? How do you declare and assign values to variables?"
   ]
  },
  {
   "cell_type": "markdown",
   "id": "4c018651-cf0c-4016-b147-2753324d6707",
   "metadata": {},
   "source": [
    "Answer: Variables in Python are symbolic names that refer to objects stored in memory. \n",
    "In Python, you do not need to declare variables before using them. \n",
    "You can simply assign values to variables using the assignment operator (=). \n",
    "For example:"
   ]
  },
  {
   "cell_type": "code",
   "execution_count": 3,
   "id": "26cd96a5-dab2-41d4-abb1-50a1ad0167d8",
   "metadata": {},
   "outputs": [],
   "source": [
    "x = 10 # This creates a variable named x and assigns it the value 10\n",
    "y = \"Hello\" # This creates a variable named y and assigns it the value \"Hello\""
   ]
  },
  {
   "cell_type": "markdown",
   "id": "12172f63-8306-417f-b017-4f5ff1bfdc3d",
   "metadata": {},
   "source": [
    "Q3. How do you convert one data type to another in Python?"
   ]
  },
  {
   "cell_type": "markdown",
   "id": "985fa132-4c62-49c9-bbf0-8e54398bc574",
   "metadata": {},
   "source": [
    "Answer: To convert one data type to another in Python, you can use either implicit or explicit conversion methods. \n",
    "Implicit conversion happens automatically when Python needs to operate on values of different types. \n",
    "Here is an example:"
   ]
  },
  {
   "cell_type": "code",
   "execution_count": 4,
   "id": "43d977db-752b-4571-85f3-2e7ecaab491b",
   "metadata": {},
   "outputs": [
    {
     "name": "stdout",
     "output_type": "stream",
     "text": [
      "13.14\n"
     ]
    }
   ],
   "source": [
    "x = 10 # x is an integer\n",
    "y = 3.14 # y is a float\n",
    "z = x + y # z is a float, because Python converts x to a float before adding\n",
    "print(z)"
   ]
  },
  {
   "cell_type": "markdown",
   "id": "cb66299e-a80e-4f0a-93e3-39aed80bf27c",
   "metadata": {},
   "source": [
    "Explicit conversion happens when you use built-in functions to change the type of a value according to your needs. \n",
    "Here are some examples:"
   ]
  },
  {
   "cell_type": "code",
   "execution_count": 6,
   "id": "02257b68-faaa-4a87-a842-3ffd47da85a3",
   "metadata": {},
   "outputs": [
    {
     "name": "stdout",
     "output_type": "stream",
     "text": [
      "10\n",
      "10.0\n"
     ]
    }
   ],
   "source": [
    "x = \"10\" # x is a string\n",
    "y = int(x) # y is an integer, because we use int() to convert x\n",
    "z = float(x) # z is a float, because we use float() to convert x\n",
    "print(y)\n",
    "print(z)"
   ]
  },
  {
   "cell_type": "markdown",
   "id": "5e74a0ba-c922-4c25-9585-891ec2c4ca56",
   "metadata": {},
   "source": [
    "Q4. How do you write and execute a Python script from the command line?"
   ]
  },
  {
   "cell_type": "markdown",
   "id": "1d8e7079-5e27-43a9-aef8-40e99e629eaa",
   "metadata": {},
   "source": [
    "Answer. You can write and excute a Python script from the command line by following these steps:\n",
    "1. Create a Python script file with a .py extension using your preferred text editor or IDE. \n",
    "For example, you can create a file named hello.py with the following content:"
   ]
  },
  {
   "cell_type": "code",
   "execution_count": null,
   "id": "e9cfc464-5849-4076-8fb6-a9df97d1bbf8",
   "metadata": {},
   "outputs": [],
   "source": [
    "print(\"Hello, world!\")"
   ]
  },
  {
   "cell_type": "markdown",
   "id": "2e061f02-bfcc-4556-b2b1-59b643ff5b95",
   "metadata": {},
   "source": [
    "2. Save your script file in a directory.\n",
    "Open your terminal or command prompt and navigate to the directory where you saved your script file. \n",
    "You can use the cd command to change directories. \n",
    "For example, if you saved your file in a subdirectory named scripts, you can type this command:\n",
    "cd scripts"
   ]
  },
  {
   "cell_type": "markdown",
   "id": "0f9b3a84-edff-42a3-96e1-dc2d76e4db51",
   "metadata": {},
   "source": [
    "3. Run your script file using this command:\n",
    "python hello.py"
   ]
  },
  {
   "cell_type": "markdown",
   "id": "5a0577e3-da28-4746-9a7c-a28085d4d7d0",
   "metadata": {},
   "source": [
    "You will see this output:\n",
    "Hello, world!"
   ]
  },
  {
   "cell_type": "markdown",
   "id": "19aea4b2-8e76-4cd3-9e59-e3883f8c29e6",
   "metadata": {},
   "source": [
    "Q5. Given a list my_list = [1, 2, 3, 4, 5], write the code to slice the list and obtain the sub-list [2, 3]."
   ]
  },
  {
   "cell_type": "markdown",
   "id": "5c0bdd8f-1b59-4c09-b809-5dd87deab1dd",
   "metadata": {},
   "source": [
    "Answer: Here is the code:"
   ]
  },
  {
   "cell_type": "code",
   "execution_count": 7,
   "id": "be82225e-4b80-4da0-9c90-8fdf5b56f4fc",
   "metadata": {},
   "outputs": [
    {
     "data": {
      "text/plain": [
       "[2, 3]"
      ]
     },
     "execution_count": 7,
     "metadata": {},
     "output_type": "execute_result"
    }
   ],
   "source": [
    "my_list = [1, 2, 3, 4, 5]\n",
    "my_list[1:3]"
   ]
  },
  {
   "cell_type": "markdown",
   "id": "0934c8e9-c402-4e61-bce5-9315a12bfffb",
   "metadata": {},
   "source": [
    "Q6. What is a complex number in mathematics, and how is it represented in Python?"
   ]
  },
  {
   "cell_type": "markdown",
   "id": "77f437cb-a613-4772-b0b5-91932921fc32",
   "metadata": {},
   "source": [
    "Answer: Complex numbers are the numbers that are expressed in the form of a+ib. \n",
    "Here, a and b are real numbers. On the other hand, 'i' is an imaginary number called “iota.”\n",
    "In Python, compplex number is represented in the following way:"
   ]
  },
  {
   "cell_type": "code",
   "execution_count": 8,
   "id": "31e970be-758a-45a8-bcf8-a555d14b224a",
   "metadata": {},
   "outputs": [],
   "source": [
    "z = 2 + 3j"
   ]
  },
  {
   "cell_type": "markdown",
   "id": "65cea9fa-24c6-4b7f-95d8-320d2f77764e",
   "metadata": {},
   "source": [
    "Here, you are using the literal notation with a trailing j for the imaginary part."
   ]
  },
  {
   "cell_type": "markdown",
   "id": "2c3f7d94-3645-4061-ab37-7a172caaa7c2",
   "metadata": {},
   "source": [
    "Q7. What is the correct way to declare a variable named age and assign the value 25 to it?"
   ]
  },
  {
   "cell_type": "markdown",
   "id": "70e438cb-d4b4-45b6-87c8-1c98e2cc3453",
   "metadata": {},
   "source": [
    "Answer: The correct way to declare a variable named age and assign the value 25 to it is:"
   ]
  },
  {
   "cell_type": "code",
   "execution_count": 9,
   "id": "fd97353e-ee06-472c-9765-a215f5d41eef",
   "metadata": {},
   "outputs": [],
   "source": [
    "age = 25"
   ]
  },
  {
   "cell_type": "markdown",
   "id": "b3518958-7fbd-4ed5-934a-315233139b43",
   "metadata": {},
   "source": [
    "Q8. Declare a variable named price and assign the value 9.99 to it. What data type does this variable\n",
    "belong to?"
   ]
  },
  {
   "cell_type": "markdown",
   "id": "c3cd72bb-2acc-4748-a88e-894e5c6ee47e",
   "metadata": {},
   "source": [
    "Answer: Here's how we should declare a variable named price and assign the value 9.99 to it:"
   ]
  },
  {
   "cell_type": "code",
   "execution_count": 10,
   "id": "a0af5e02-cc40-4353-8873-4220f1f981e3",
   "metadata": {},
   "outputs": [],
   "source": [
    "price = 9.99"
   ]
  },
  {
   "cell_type": "code",
   "execution_count": 11,
   "id": "2e7df04f-5ea6-47f6-a17d-93ab3d53e4c2",
   "metadata": {},
   "outputs": [
    {
     "data": {
      "text/plain": [
       "float"
      ]
     },
     "execution_count": 11,
     "metadata": {},
     "output_type": "execute_result"
    }
   ],
   "source": [
    "type(price)"
   ]
  },
  {
   "cell_type": "markdown",
   "id": "3f6aca46-dc91-4f20-b5df-e348d4d49942",
   "metadata": {},
   "source": [
    "This variable belongs to float data type."
   ]
  },
  {
   "cell_type": "markdown",
   "id": "ab6b3315-30e1-4ad5-a47a-a2c95c884e5e",
   "metadata": {},
   "source": [
    "Q9. Create a variable named name and assign your full name to it as a string. How would you print the\n",
    "value of this variable?"
   ]
  },
  {
   "cell_type": "markdown",
   "id": "c04ec18e-c9cd-47ec-808f-b2b07f958c00",
   "metadata": {},
   "source": [
    "Answer: Here's the answer to this question:"
   ]
  },
  {
   "cell_type": "code",
   "execution_count": 13,
   "id": "ba4cedb6-8e38-4b8c-9c6d-676e7aa583b5",
   "metadata": {},
   "outputs": [
    {
     "name": "stdout",
     "output_type": "stream",
     "text": [
      "Md. Ehsanul Haque Kanan\n"
     ]
    }
   ],
   "source": [
    "name = \"Md. Ehsanul Haque Kanan\"\n",
    "print(name)"
   ]
  },
  {
   "cell_type": "markdown",
   "id": "c6a3cc14-d1ef-40bc-aa6d-6422965bba44",
   "metadata": {},
   "source": [
    "Q10. Given the string \"Hello, World!\", extract the substring \"World\"."
   ]
  },
  {
   "cell_type": "markdown",
   "id": "59e12532-610d-4a89-85de-dc43f48a1f28",
   "metadata": {},
   "source": [
    "Answer: Here's the code:"
   ]
  },
  {
   "cell_type": "code",
   "execution_count": 14,
   "id": "50989989-34e4-4baa-9e86-a4a068ae75c9",
   "metadata": {},
   "outputs": [
    {
     "data": {
      "text/plain": [
       "'World'"
      ]
     },
     "execution_count": 14,
     "metadata": {},
     "output_type": "execute_result"
    }
   ],
   "source": [
    "string1 = \"Hello, World!\"\n",
    "string1[7:12]"
   ]
  },
  {
   "cell_type": "markdown",
   "id": "efbdf991-d931-4042-b1bd-6372c52aa4ce",
   "metadata": {},
   "source": [
    "Q11. Create a variable named \"is_student\" and assign it a boolean value indicating whether you are\n",
    "currently a student or not."
   ]
  },
  {
   "cell_type": "markdown",
   "id": "0e2546af-a04f-454c-8980-961b0dccdcd2",
   "metadata": {},
   "source": [
    "Answer: Here's the code:"
   ]
  },
  {
   "cell_type": "code",
   "execution_count": 16,
   "id": "017deea6-defb-4355-bd73-d843f3ec93c6",
   "metadata": {},
   "outputs": [],
   "source": [
    "is_student = True"
   ]
  }
 ],
 "metadata": {
  "kernelspec": {
   "display_name": "Python 3 (ipykernel)",
   "language": "python",
   "name": "python3"
  },
  "language_info": {
   "codemirror_mode": {
    "name": "ipython",
    "version": 3
   },
   "file_extension": ".py",
   "mimetype": "text/x-python",
   "name": "python",
   "nbconvert_exporter": "python",
   "pygments_lexer": "ipython3",
   "version": "3.10.8"
  }
 },
 "nbformat": 4,
 "nbformat_minor": 5
}
