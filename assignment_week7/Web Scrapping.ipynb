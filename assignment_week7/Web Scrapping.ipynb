{
 "cells": [
  {
   "cell_type": "markdown",
   "id": "17ec064a-dbe0-414c-a329-d6324978a0c2",
   "metadata": {},
   "source": [
    "Q1. What is Web Scraping? Why is it Used? Give three areas where Web Scraping is used to get data."
   ]
  },
  {
   "cell_type": "markdown",
   "id": "d45c25ac-998c-4216-a22d-0e7da5b7298d",
   "metadata": {},
   "source": [
    "Answer: Web scraping is a technique used to collect content and data from the internet. So, you can manipulate and analyze the data as needed. \n",
    "\n",
    "Web scraping has many applications, especially within the field of data analytics. For example, market research companies use scrapers to pull data from social media or online forums for customer sentiment analysis. \n",
    "\n",
    "Here are three areas where web scraping is used to get data:\n",
    "\n",
    "1. Market research: Companies use scrapers to pull data from social media or online forums for things like customer sentiment analysis.\n",
    "\n",
    "2. Competitor analysis: Data is scraped from product sites like Amazon or eBay to support competitor analysis.\n",
    "\n",
    "3. Lead generation: Email, phone number, and other contact detail related data mining from various websites.\n"
   ]
  },
  {
   "cell_type": "markdown",
   "id": "e1f5b898-8882-43fa-a4b5-9c8b7dd2cea6",
   "metadata": {},
   "source": [
    "Q2. What are the different methods used for Web Scraping?"
   ]
  },
  {
   "cell_type": "markdown",
   "id": "c8a6c501-aaa2-4dad-862a-2a3c9abab529",
   "metadata": {},
   "source": [
    "Answer:  Here are differet methods used for web scraping:\n",
    "\n",
    "1. Web scraping libraries: These are software packages that provide pre-built functions and tools for web scraping tasks, such as Beautiful Soup, Scrapy, Puppeteer, Cheerio, and Selenium.\n",
    "\n",
    "2. Web scraping tools: These are software or programs that automatically gather data from web sources.\n",
    "\n",
    "3. Manual web scraping: This involves manually copying and pasting data from websites into a local file for analysis.\n",
    "\n",
    "4. HTML parsing: It invovles extracting data by parsing the HTML structure of web pages.\n",
    "\n",
    "5. Web scraping API: Web scraping API is a tool that allows software to automatically extract data from websites and integrate it into another piece of software through an API call."
   ]
  },
  {
   "cell_type": "markdown",
   "id": "b93f21dd-987e-4be0-af34-3a2fbf2114a8",
   "metadata": {},
   "source": [
    "Q3. What is Beautiful Soup? Why is it used?"
   ]
  },
  {
   "cell_type": "markdown",
   "id": "a0fb9c74-1996-408b-a24b-4dbd313e9891",
   "metadata": {},
   "source": [
    "Answer: Beautiful Soup is a Python library used for web scraping purposes. It provides a convenient way to parse HTML and XML documents, extracting data from them easily. \n",
    "\n",
    "It is used because of the following reasons:\n",
    "\n",
    "1. Simplifies web scraping: Beautiful Soup abstracts away the complexities of parsing HTML and XML, providing a user-friendly interface for extracting data from web pages.\n",
    "\n",
    "2. Handles imperfect markup: It can handle poorly formatted or invalid HTML and XML documents, allowing scraping from real-world websites that may have inconsistencies.\n",
    "\n",
    "2. Supports powerful querying: Beautiful Soup provides robust methods for searching and navigating parsed documents, using CSS selectors, XPath expressions, or custom filters, making it easier to locate and extract specific data elements."
   ]
  },
  {
   "cell_type": "markdown",
   "id": "7b18a54a-c8eb-49a2-875d-9e6f52047385",
   "metadata": {},
   "source": [
    "Q4. Why is flask used in this Web Scraping project?"
   ]
  },
  {
   "cell_type": "markdown",
   "id": "03e48848-504e-4681-93a6-29974d6dbbeb",
   "metadata": {},
   "source": [
    "Answer: Flask is used for the following reasons:\n",
    "\n",
    "1. Lightweight framework: Flask is a minimalistic and lightweight web framework in Python, making it suitable for small-scale web scraping projects without unnecessary overhead.\n",
    "\n",
    "2. Routing and HTTP handling: Flask provides routing capabilities, allowing you to define routes for different scraping tasks and handle HTTP requests efficiently.\n",
    "\n",
    "3. Integration with other Python libraries: Flask can be easily integrated with popular Python libraries like Beautiful Soup or Scrapy, enabling seamless integration of web scraping functionality into Flask-based applications."
   ]
  },
  {
   "cell_type": "markdown",
   "id": "de983d97-b46e-4c20-9cda-587ec0cafa5f",
   "metadata": {},
   "source": [
    "Q5. Write the names of AWS services used in this project. Also, explain the use of each service."
   ]
  },
  {
   "cell_type": "markdown",
   "id": "b58fd37c-6bba-47f7-adbf-546b99d0ef56",
   "metadata": {},
   "source": [
    "Answer: Here are the AWS Services used in this proeject:\n",
    "\n",
    "1. AWS Beanstalk: A platform-as-a-service (PaaS) that simplifies deploying and managing applications in the AWS cloud.\n",
    "\n",
    "2. AWS CodePipeline: A continuous integration and continuous delivery (CI/CD) service that automates the release process for applications, enabling rapid and reliable software delivery on AWS."
   ]
  },
  {
   "cell_type": "code",
   "execution_count": null,
   "id": "aa2a3236-5a7f-43a1-ad4f-788bff575b8b",
   "metadata": {},
   "outputs": [],
   "source": []
  }
 ],
 "metadata": {
  "kernelspec": {
   "display_name": "Python 3 (ipykernel)",
   "language": "python",
   "name": "python3"
  },
  "language_info": {
   "codemirror_mode": {
    "name": "ipython",
    "version": 3
   },
   "file_extension": ".py",
   "mimetype": "text/x-python",
   "name": "python",
   "nbconvert_exporter": "python",
   "pygments_lexer": "ipython3",
   "version": "3.10.8"
  }
 },
 "nbformat": 4,
 "nbformat_minor": 5
}
