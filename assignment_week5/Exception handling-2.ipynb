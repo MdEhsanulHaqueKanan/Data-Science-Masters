{
 "cells": [
  {
   "cell_type": "markdown",
   "id": "5fee78c1-96b9-45c1-b753-be712c622193",
   "metadata": {},
   "source": [
    "Q1. Explain why we have to use the Exception class while creating a Custom Exception.\n",
    "Note: Here Exception class refers to the base class for all the exceptions."
   ]
  },
  {
   "cell_type": "markdown",
   "id": "d303859d-1692-4699-943a-3aea032f05be",
   "metadata": {},
   "source": [
    "Answer: Here are a few reasons why it is beneficial to use the Exception class as the base class for custom exceptions:\n",
    "1. Inheritance: \n",
    "By inheriting from the Exception class, custom exceptions inherit all the attributes and behaviors defined in the base class. This includes important features such as exception chaining, exception messages, and stack traces, which are essential for proper exception handling and debugging.\n",
    "\n",
    "2. Compatibility: \n",
    "By using the Exception class as the base class, custom exceptions become compatible with existing exception handling mechanisms in Python. This means that code that catches general exceptions (e.g., except Exception) will also catch instances of custom exceptions, allowing for consistent and unified exception handling.\n",
    "3. Standardized Exception Hierarchy: \n",
    "The Exception class is part of the standardized exception hierarchy in Python. It is the parent class for various specialized exception classes like ValueError, TypeError, IOError, and many others. Subclassing Exception allows our custom exception to fit into this hierarchy and maintain a clear and organized exception structure."
   ]
  },
  {
   "cell_type": "markdown",
   "id": "ffe4788e-513e-4ae6-9c25-aef8f9164a36",
   "metadata": {},
   "source": [
    "Q2. Write a python program to print Python Exception Hierarchy."
   ]
  },
  {
   "cell_type": "markdown",
   "id": "31932f4a-8d13-4bc6-be67-afb0afb42c3e",
   "metadata": {},
   "source": [
    "Answer: Here's the code:"
   ]
  },
  {
   "cell_type": "code",
   "execution_count": 1,
   "id": "db7c7328-edb6-46aa-9d7c-83e3d6358483",
   "metadata": {},
   "outputs": [
    {
     "name": "stdout",
     "output_type": "stream",
     "text": [
      "- BaseException\n",
      "  - Exception\n",
      "    - TypeError\n",
      "      - FloatOperation\n",
      "      - MultipartConversionError\n",
      "    - StopAsyncIteration\n",
      "    - StopIteration\n",
      "    - ImportError\n",
      "      - ModuleNotFoundError\n",
      "      - ZipImportError\n",
      "    - OSError\n",
      "      - ConnectionError\n",
      "        - BrokenPipeError\n",
      "        - ConnectionAbortedError\n",
      "        - ConnectionRefusedError\n",
      "        - ConnectionResetError\n",
      "          - RemoteDisconnected\n",
      "      - BlockingIOError\n",
      "      - ChildProcessError\n",
      "      - FileExistsError\n",
      "      - FileNotFoundError\n",
      "      - IsADirectoryError\n",
      "      - NotADirectoryError\n",
      "      - InterruptedError\n",
      "        - InterruptedSystemCall\n",
      "      - PermissionError\n",
      "      - ProcessLookupError\n",
      "      - TimeoutError\n",
      "      - UnsupportedOperation\n",
      "      - itimer_error\n",
      "      - herror\n",
      "      - gaierror\n",
      "      - SSLError\n",
      "        - SSLCertVerificationError\n",
      "        - SSLZeroReturnError\n",
      "        - SSLWantWriteError\n",
      "        - SSLWantReadError\n",
      "        - SSLSyscallError\n",
      "        - SSLEOFError\n",
      "      - Error\n",
      "        - SameFileError\n",
      "      - SpecialFileError\n",
      "      - ExecError\n",
      "      - ReadError\n",
      "      - URLError\n",
      "        - HTTPError\n",
      "        - ContentTooShortError\n",
      "      - BadGzipFile\n",
      "    - EOFError\n",
      "      - IncompleteReadError\n",
      "    - RuntimeError\n",
      "      - RecursionError\n",
      "      - NotImplementedError\n",
      "        - ZMQVersionError\n",
      "        - StdinNotImplementedError\n",
      "      - _DeadlockError\n",
      "      - BrokenBarrierError\n",
      "      - BrokenExecutor\n",
      "        - BrokenThreadPool\n",
      "      - SendfileNotAvailableError\n",
      "      - ExtractionError\n",
      "      - VariableError\n",
      "    - NameError\n",
      "      - UnboundLocalError\n",
      "    - AttributeError\n",
      "      - FrozenInstanceError\n",
      "    - SyntaxError\n",
      "      - IndentationError\n",
      "        - TabError\n",
      "    - LookupError\n",
      "      - IndexError\n",
      "      - KeyError\n",
      "        - NoSuchKernel\n",
      "        - UnknownBackend\n",
      "      - CodecRegistryError\n",
      "    - ValueError\n",
      "      - UnicodeError\n",
      "        - UnicodeEncodeError\n",
      "        - UnicodeDecodeError\n",
      "        - UnicodeTranslateError\n",
      "      - UnsupportedOperation\n",
      "      - JSONDecodeError\n",
      "      - SSLCertVerificationError\n",
      "      - Error\n",
      "      - UnsupportedDigestmodError\n",
      "      - IllegalMonthError\n",
      "      - IllegalWeekdayError\n",
      "      - ParserError\n",
      "      - ClassNotFound\n",
      "      - ClipboardEmpty\n",
      "      - MessageDefect\n",
      "        - NoBoundaryInMultipartDefect\n",
      "        - StartBoundaryNotFoundDefect\n",
      "        - CloseBoundaryNotFoundDefect\n",
      "        - FirstHeaderLineIsContinuationDefect\n",
      "        - MisplacedEnvelopeHeaderDefect\n",
      "        - MissingHeaderBodySeparatorDefect\n",
      "        - MultipartInvariantViolationDefect\n",
      "        - InvalidMultipartContentTransferEncodingDefect\n",
      "        - UndecodableBytesDefect\n",
      "        - InvalidBase64PaddingDefect\n",
      "        - InvalidBase64CharactersDefect\n",
      "        - InvalidBase64LengthDefect\n",
      "        - HeaderDefect\n",
      "          - InvalidHeaderDefect\n",
      "          - HeaderMissingRequiredValue\n",
      "          - NonPrintableDefect\n",
      "          - ObsoleteHeaderDefect\n",
      "          - NonASCIILocalPartDefect\n",
      "          - InvalidDateDefect\n",
      "      - MacroToEdit\n",
      "      - InvalidFileException\n",
      "      - UnequalIterablesError\n",
      "      - InvalidVersion\n",
      "      - _InvalidELFFileHeader\n",
      "      - InvalidWheelFilename\n",
      "      - InvalidSdistFilename\n",
      "      - InvalidSpecifier\n",
      "      - InvalidMarker\n",
      "      - UndefinedComparison\n",
      "      - UndefinedEnvironmentName\n",
      "      - InvalidRequirement\n",
      "        - RequirementParseError\n",
      "      - InvalidVersion\n",
      "    - AssertionError\n",
      "    - ArithmeticError\n",
      "      - FloatingPointError\n",
      "      - OverflowError\n",
      "      - ZeroDivisionError\n",
      "        - DivisionByZero\n",
      "        - DivisionUndefined\n",
      "      - DecimalException\n",
      "        - Clamped\n",
      "        - Rounded\n",
      "          - Underflow\n",
      "          - Overflow\n",
      "        - Inexact\n",
      "          - Underflow\n",
      "          - Overflow\n",
      "        - Subnormal\n",
      "          - Underflow\n",
      "        - DivisionByZero\n",
      "        - FloatOperation\n",
      "        - InvalidOperation\n",
      "          - ConversionSyntax\n",
      "          - DivisionImpossible\n",
      "          - DivisionUndefined\n",
      "          - InvalidContext\n",
      "    - SystemError\n",
      "      - CodecRegistryError\n",
      "    - ReferenceError\n",
      "    - MemoryError\n",
      "    - BufferError\n",
      "    - Warning\n",
      "      - UserWarning\n",
      "        - GetPassWarning\n",
      "        - FormatterWarning\n",
      "      - EncodingWarning\n",
      "      - DeprecationWarning\n",
      "        - ProvisionalWarning\n",
      "      - PendingDeprecationWarning\n",
      "      - SyntaxWarning\n",
      "      - RuntimeWarning\n",
      "        - ProactorSelectorThreadWarning\n",
      "        - UnknownTimezoneWarning\n",
      "        - PEP440Warning\n",
      "      - FutureWarning\n",
      "        - ProvisionalCompleterWarning\n",
      "      - ImportWarning\n",
      "      - UnicodeWarning\n",
      "      - BytesWarning\n",
      "      - ResourceWarning\n",
      "      - DeprecatedTzFormatWarning\n",
      "      - PkgResourcesDeprecationWarning\n",
      "    - _OptionError\n",
      "    - _Error\n",
      "    - error\n",
      "    - Verbose\n",
      "    - Error\n",
      "    - SubprocessError\n",
      "      - CalledProcessError\n",
      "      - TimeoutExpired\n",
      "    - TokenError\n",
      "    - StopTokenizing\n",
      "    - ClassFoundException\n",
      "    - EndOfBlock\n",
      "    - TraitError\n",
      "    - Error\n",
      "    - Error\n",
      "      - CancelledError\n",
      "      - TimeoutError\n",
      "      - InvalidStateError\n",
      "    - _GiveupOnSendfile\n",
      "    - error\n",
      "    - Incomplete\n",
      "    - TimeoutError\n",
      "    - InvalidStateError\n",
      "    - LimitOverrunError\n",
      "    - QueueEmpty\n",
      "    - QueueFull\n",
      "    - Empty\n",
      "    - Full\n",
      "    - ArgumentError\n",
      "    - ZMQBaseError\n",
      "      - ZMQError\n",
      "        - ContextTerminated\n",
      "        - Again\n",
      "        - InterruptedSystemCall\n",
      "      - ZMQBindError\n",
      "      - NotDone\n",
      "    - PickleError\n",
      "      - PicklingError\n",
      "      - UnpicklingError\n",
      "    - _Stop\n",
      "    - ArgumentError\n",
      "    - ArgumentTypeError\n",
      "    - ConfigError\n",
      "      - ConfigLoaderError\n",
      "        - ArgumentError\n",
      "      - ConfigFileNotFound\n",
      "    - ConfigurableError\n",
      "      - MultipleInstanceError\n",
      "    - ApplicationError\n",
      "    - error\n",
      "    - TimeoutError\n",
      "    - error\n",
      "    - ReturnValueIgnoredError\n",
      "    - KeyReuseError\n",
      "    - UnknownKeyError\n",
      "    - LeakedCallbackError\n",
      "    - BadYieldError\n",
      "    - ReturnValueIgnoredError\n",
      "    - Return\n",
      "    - InvalidPortNumber\n",
      "    - error\n",
      "    - LZMAError\n",
      "    - RegistryError\n",
      "    - _GiveupOnFastCopy\n",
      "    - Error\n",
      "      - NoSectionError\n",
      "      - DuplicateSectionError\n",
      "      - DuplicateOptionError\n",
      "      - NoOptionError\n",
      "      - InterpolationError\n",
      "        - InterpolationMissingOptionError\n",
      "        - InterpolationSyntaxError\n",
      "        - InterpolationDepthError\n",
      "      - ParsingError\n",
      "        - MissingSectionHeaderError\n",
      "    - NoIPAddresses\n",
      "    - BadZipFile\n",
      "    - LargeZipFile\n",
      "    - BadEntryPoint\n",
      "    - NoSuchEntryPoint\n",
      "    - DuplicateKernelError\n",
      "    - ErrorDuringImport\n",
      "    - NotOneValueFound\n",
      "    - CannotEval\n",
      "    - OptionError\n",
      "    - BdbQuit\n",
      "    - Restart\n",
      "    - ExceptionPexpect\n",
      "      - EOF\n",
      "      - TIMEOUT\n",
      "    - PtyProcessError\n",
      "    - FindCmdError\n",
      "    - HomeDirError\n",
      "    - ProfileDirError\n",
      "    - IPythonCoreError\n",
      "      - TryNext\n",
      "      - UsageError\n",
      "      - StdinNotImplementedError\n",
      "    - InputRejected\n",
      "    - GetoptError\n",
      "    - ErrorToken\n",
      "    - PrefilterError\n",
      "    - AliasError\n",
      "      - InvalidAliasError\n",
      "    - Error\n",
      "      - InterfaceError\n",
      "      - DatabaseError\n",
      "        - InternalError\n",
      "        - OperationalError\n",
      "        - ProgrammingError\n",
      "        - IntegrityError\n",
      "        - DataError\n",
      "        - NotSupportedError\n",
      "    - Warning\n",
      "    - SpaceInInput\n",
      "    - DOMException\n",
      "      - IndexSizeErr\n",
      "      - DomstringSizeErr\n",
      "      - HierarchyRequestErr\n",
      "      - WrongDocumentErr\n",
      "      - InvalidCharacterErr\n",
      "      - NoDataAllowedErr\n",
      "      - NoModificationAllowedErr\n",
      "      - NotFoundErr\n",
      "      - NotSupportedErr\n",
      "      - InuseAttributeErr\n",
      "      - InvalidStateErr\n",
      "      - SyntaxErr\n",
      "      - InvalidModificationErr\n",
      "      - NamespaceErr\n",
      "      - InvalidAccessErr\n",
      "      - ValidationErr\n",
      "    - ValidationError\n",
      "    - EditReadOnlyBuffer\n",
      "    - _Retry\n",
      "    - InvalidLayoutError\n",
      "    - HeightIsUnknownError\n",
      "    - ParserSyntaxError\n",
      "    - InternalParseError\n",
      "    - _PositionUpdatingFinished\n",
      "    - SimpleGetItemNotFound\n",
      "    - UncaughtAttributeError\n",
      "    - HasNoContext\n",
      "    - ParamIssue\n",
      "    - _JediError\n",
      "      - InternalError\n",
      "      - WrongVersion\n",
      "      - RefactoringError\n",
      "    - OnErrorLeaf\n",
      "    - InvalidPythonEnvironment\n",
      "    - MessageError\n",
      "      - MessageParseError\n",
      "        - HeaderParseError\n",
      "        - BoundaryError\n",
      "      - MultipartConversionError\n",
      "      - CharsetError\n",
      "    - Error\n",
      "    - HTTPException\n",
      "      - NotConnected\n",
      "      - InvalidURL\n",
      "      - UnknownProtocol\n",
      "      - UnknownTransferEncoding\n",
      "      - UnimplementedFileMode\n",
      "      - IncompleteRead\n",
      "      - ImproperConnectionState\n",
      "        - CannotSendRequest\n",
      "        - CannotSendHeader\n",
      "        - ResponseNotReady\n",
      "      - BadStatusLine\n",
      "        - RemoteDisconnected\n",
      "      - LineTooLong\n",
      "    - InteractivelyDefined\n",
      "    - KillEmbedded\n",
      "    - Error\n",
      "      - NoSuchProcess\n",
      "        - ZombieProcess\n",
      "      - AccessDenied\n",
      "      - TimeoutExpired\n",
      "    - _Ipv6UnsupportedError\n",
      "    - QueueEmpty\n",
      "    - QueueFull\n",
      "    - DebuggerInitializationError\n",
      "    - ExpatError\n",
      "    - Error\n",
      "      - ProtocolError\n",
      "      - ResponseError\n",
      "      - Fault\n",
      "    - ParseBaseException\n",
      "      - ParseException\n",
      "      - ParseFatalException\n",
      "        - ParseSyntaxException\n",
      "    - RecursiveGrammarException\n",
      "    - ResolutionError\n",
      "      - VersionConflict\n",
      "        - ContextualVersionConflict\n",
      "      - DistributionNotFound\n",
      "      - UnknownExtra\n",
      "    - _Error\n",
      "    - UnableToResolveVariableException\n",
      "    - InvalidTypeInArgsException\n",
      "  - GeneratorExit\n",
      "  - SystemExit\n",
      "  - KeyboardInterrupt\n",
      "  - CancelledError\n",
      "  - AbortThread\n"
     ]
    }
   ],
   "source": [
    "def print_exception_hierarchy(exception_class, indent=0):\n",
    "    print(' ' * indent + f'- {exception_class.__name__}')\n",
    "    for subclass in exception_class.__subclasses__():\n",
    "        print_exception_hierarchy(subclass, indent + 2)\n",
    "\n",
    "print_exception_hierarchy(BaseException)\n"
   ]
  },
  {
   "cell_type": "markdown",
   "id": "7f9ddf6b-0106-4798-8e9b-555c5da86901",
   "metadata": {},
   "source": [
    "Q3. What errors are defined in the ArithmeticError class? Explain any two with an example."
   ]
  },
  {
   "cell_type": "markdown",
   "id": "a6089c5c-7115-47ae-a251-ab59c5d486e6",
   "metadata": {},
   "source": [
    "Answer: The ArithmeticError class is a base class for exceptions that occur during arithmetic operations in Python. It represents a category of errors that can arise when performing mathematical calculations.\n",
    "\n",
    "Here are two examples:"
   ]
  },
  {
   "cell_type": "markdown",
   "id": "bbcdb476-2aab-486b-8092-ac1bb2a3dc3f",
   "metadata": {},
   "source": [
    "1. ZeroDivisionError: \n",
    "This error occurs when division or modulo operation is performed with zero as the divisor. It indicates that the division operation is not possible due to division by zero.ZeroDivisionError: This error occurs when division or modulo operation is performed with zero as the divisor. It indicates that the division operation is not possible due to division by zero.\n",
    "Here is an example:"
   ]
  },
  {
   "cell_type": "code",
   "execution_count": 2,
   "id": "081d1b0b-9c2f-4a29-8692-76172861e2ad",
   "metadata": {},
   "outputs": [
    {
     "name": "stdout",
     "output_type": "stream",
     "text": [
      "Error: division by zero\n"
     ]
    }
   ],
   "source": [
    "try:\n",
    "    result = 10 / 0  # Raises ZeroDivisionError\n",
    "except ZeroDivisionError as e:\n",
    "    print(\"Error:\", str(e))"
   ]
  },
  {
   "cell_type": "markdown",
   "id": "3fcfea95-31a8-4eb5-ab3d-66eef55973d8",
   "metadata": {},
   "source": [
    "2. OverflowError: \n",
    "This exception occurs when the result of an arithmetic operation exceeds the maximum representable value for the given data type."
   ]
  },
  {
   "cell_type": "code",
   "execution_count": null,
   "id": "cb0b9ab3-818c-452c-845b-848a8d3181ce",
   "metadata": {},
   "outputs": [],
   "source": [
    "import sys\n",
    "\n",
    "a = sys.maxsize  # Maximum value for the platform's integer type\n",
    "b = 2\n",
    "\n",
    "try:\n",
    "    result = a * b\n",
    "    print(result)\n",
    "except OverflowError:\n",
    "    print(\"Error: Overflow occurred!\")"
   ]
  },
  {
   "cell_type": "markdown",
   "id": "5c055522-129a-4608-8d38-f5ff1f36e6b5",
   "metadata": {},
   "source": [
    "Q4. Why LookupError class is used? Explain with an example KeyError and IndexError."
   ]
  },
  {
   "cell_type": "markdown",
   "id": "acf45c45-8b5d-41f4-84f3-9c94c3adb8f5",
   "metadata": {},
   "source": [
    "Answer: The LookupError class in Python is the base class for exceptions that occur when a lookup or indexing operation fails. It serves as a common superclass for more specific lookup-related exceptions like KeyError and IndexError."
   ]
  },
  {
   "cell_type": "markdown",
   "id": "bd0a45ef-a3d1-4522-b51d-bdcaad35a1c6",
   "metadata": {},
   "source": [
    "KeyError: \n",
    "This exception is raised when a dictionary key or a key-based lookup operation fails because the specified key is not found in the dictionary.\n",
    "\n",
    "Here is an example:"
   ]
  },
  {
   "cell_type": "code",
   "execution_count": 3,
   "id": "4478656a-0ad4-4118-9f3e-f5c9934e5fd8",
   "metadata": {},
   "outputs": [
    {
     "name": "stdout",
     "output_type": "stream",
     "text": [
      "Error: Key not found!\n"
     ]
    }
   ],
   "source": [
    "my_dict = {\"apple\": 1, \"banana\": 2, \"orange\": 3}\n",
    "\n",
    "try:\n",
    "    value = my_dict[\"grape\"]\n",
    "    print(value)\n",
    "except KeyError:\n",
    "    print(\"Error: Key not found!\")"
   ]
  },
  {
   "cell_type": "markdown",
   "id": "6ca9938d-7ae7-4377-8133-8520a10c3c0c",
   "metadata": {},
   "source": [
    "IndexError: \n",
    "This exception is raised when a sequence or array indexing operation fails because the specified index is out of range or invalid.\n",
    "\n",
    "Here is an example:"
   ]
  },
  {
   "cell_type": "code",
   "execution_count": 5,
   "id": "bbd3a3ff-2d39-4334-9ba5-03f98323d0f0",
   "metadata": {},
   "outputs": [
    {
     "name": "stdout",
     "output_type": "stream",
     "text": [
      "Error: Index out of range!\n"
     ]
    }
   ],
   "source": [
    "my_list = [10, 20, 30]\n",
    "\n",
    "try:\n",
    "    value = my_list[5]\n",
    "    print(value)\n",
    "except IndexError:\n",
    "    print(\"Error: Index out of range!\")"
   ]
  },
  {
   "cell_type": "markdown",
   "id": "1c454815-70a5-4886-8813-707303027947",
   "metadata": {},
   "source": [
    "Q5. Explain ImportError. What is ModuleNotFoundError?"
   ]
  },
  {
   "cell_type": "markdown",
   "id": "57868f9f-b7c9-4bbb-8f25-514b9279d4fe",
   "metadata": {},
   "source": [
    "Answer: In Python, ImportError is an exception that is raised when an import statement fails to locate and import a module. It indicates that there was an issue with importing a module, either because the module does not exist, cannot be found, or there is an error within the module itself.\n",
    "\n",
    "Here is an example:"
   ]
  },
  {
   "cell_type": "code",
   "execution_count": 6,
   "id": "4a94fa6e-139a-4bd3-afa5-ad219cf60a12",
   "metadata": {},
   "outputs": [
    {
     "name": "stdout",
     "output_type": "stream",
     "text": [
      "Error: Failed to import module!\n"
     ]
    }
   ],
   "source": [
    "try:\n",
    "    import non_existent_module\n",
    "except ImportError:\n",
    "    print(\"Error: Failed to import module!\")\n"
   ]
  },
  {
   "cell_type": "markdown",
   "id": "33c1033b-dfbc-4785-b8a8-4846cc3c6b95",
   "metadata": {},
   "source": [
    "On the other hand, ModuleNotFoundError is an exception, which is a subclass of ImportError. It specifically indicates that the requested module could not be found. It was introduced in Python 3.6 as a more specific exception to handle cases where the module is not present in the system.\n",
    "\n",
    "Here's an example:"
   ]
  },
  {
   "cell_type": "code",
   "execution_count": 7,
   "id": "a45e2b4b-4583-4629-8edf-2ba609194621",
   "metadata": {},
   "outputs": [
    {
     "name": "stdout",
     "output_type": "stream",
     "text": [
      "Error: Module not found!\n"
     ]
    }
   ],
   "source": [
    "try:\n",
    "    import non_existent_module\n",
    "except ModuleNotFoundError:\n",
    "    print(\"Error: Module not found!\")\n"
   ]
  },
  {
   "cell_type": "markdown",
   "id": "3e0ecad1-0390-4e55-bc2e-326d05f117c8",
   "metadata": {},
   "source": [
    "Q6. List down some best practices for exception handling in python."
   ]
  },
  {
   "cell_type": "markdown",
   "id": "facbf773-e0c6-40c3-9a57-18013541a1fd",
   "metadata": {},
   "source": [
    "Answer:\n",
    "\n",
    "1. Catch Specific Exceptions: \n",
    "Catch specific exceptions rather than using a generic except clause. This allows you to handle different exceptions differently and avoids catching unintended exceptions. Catching specific exceptions also provides better error diagnostics and debugging.\n",
    "\n",
    "2. Use Multiple Except Blocks: \n",
    "Use multiple except blocks to handle different exceptions individually. This allows you to provide specific error handling logic for each type of exception.\n",
    "\n",
    "3. Avoid Bare Except: \n",
    "Avoid using bare except statements without specifying the exception type. Bare except statements catch all exceptions, including system-exiting exceptions like KeyboardInterrupt, which can lead to unexpected program termination.\n",
    "\n",
    "4. Use Finally Block: \n",
    "Use a finally block to ensure that necessary cleanup or resource release operations are performed, regardless of whether an exception occurred or not. The finally block is executed irrespective of whether an exception is raised or caught.\n",
    "\n",
    "5. Use Exception Hierarchy: \n",
    "Utilize the exception hierarchy in Python to catch exceptions at an appropriate level of specificity. Catching exceptions based on their hierarchical relationships helps in organizing the code and handling related exceptions together."
   ]
  },
  {
   "cell_type": "code",
   "execution_count": null,
   "id": "fd24c6de-2f41-4a35-a663-b5c5f12e65e1",
   "metadata": {},
   "outputs": [],
   "source": []
  }
 ],
 "metadata": {
  "kernelspec": {
   "display_name": "Python 3 (ipykernel)",
   "language": "python",
   "name": "python3"
  },
  "language_info": {
   "codemirror_mode": {
    "name": "ipython",
    "version": 3
   },
   "file_extension": ".py",
   "mimetype": "text/x-python",
   "name": "python",
   "nbconvert_exporter": "python",
   "pygments_lexer": "ipython3",
   "version": "3.10.8"
  }
 },
 "nbformat": 4,
 "nbformat_minor": 5
}
