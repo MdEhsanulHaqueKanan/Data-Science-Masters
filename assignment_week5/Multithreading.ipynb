{
 "cells": [
  {
   "cell_type": "markdown",
   "id": "e1ff73a1-113d-4e99-a34c-47248622a5f9",
   "metadata": {},
   "source": [
    "Q1. What is multithreading in python? Why is it used? Name the module used to handle threads in Python."
   ]
  },
  {
   "cell_type": "markdown",
   "id": "e8264d82-a0af-4901-a8ec-4302bbdfc7a4",
   "metadata": {},
   "source": [
    "Answer: Multithreading in Python refers to the ability of a program to execute multiple threads simultaneously, allowing different parts of the program to run concurrently. A thread is a separate flow of execution within a program, and multithreading enables concurrent execution of multiple threads within a single process.\n",
    "Multithreading is used in Python to achieve parallelism, where multiple tasks can be executed simultaneously and independently. This is particularly useful when dealing with tasks that can benefit from parallel processing, such as I/O operations or computationally intensive tasks.\n",
    "The module used to handle threads in Python is called \"threading\". "
   ]
  },
  {
   "cell_type": "markdown",
   "id": "486e0111-d544-4661-8048-2195122890d7",
   "metadata": {},
   "source": [
    "Q2. Why threading module used? Write the use of the following functions:\n",
    "1. activeCount()\n",
    "2. currentThread()\n",
    "3. enumerate()"
   ]
  },
  {
   "cell_type": "markdown",
   "id": "2b6385f1-db3d-459d-a32b-d1324382ec20",
   "metadata": {},
   "source": [
    "Answer: The threading module in Python is used to handle threads and provides a high-level interface for creating, managing, and synchronizing threads. It simplifies the process of working with threads and allows developers to write multithreaded programs more easily.\n",
    "\n",
    "1. activeCount()\n",
    "The activeCount() function is used to retrieve the current number of Thread objects that are active and running in the current program. \n",
    "2. currentThread()\n",
    "The currentThread() function returns the Thread object corresponding to the current thread of execution.\n",
    "3. enumerate()\n",
    "The enumerate() function is used to obtain a list of all currently active Thread objects.\n"
   ]
  },
  {
   "cell_type": "code",
   "execution_count": null,
   "id": "c03c0215-68a4-4eac-b4f0-8563abab749f",
   "metadata": {},
   "outputs": [],
   "source": [
    "Q3. Explain the following functions\n",
    "1. run()\n",
    "2. start()\n",
    "3. join()\n",
    "4. isAlive()"
   ]
  },
  {
   "cell_type": "markdown",
   "id": "ee1052ff-fc9b-4c55-91a3-91a9fba5c038",
   "metadata": {},
   "source": [
    "Answer: Here's the explanations: \n",
    "1. run()\n",
    "The run() function is the entry point for the thread's activity. It contains the code that will be executed in the thread. \n",
    "2. start()\n",
    "The start() function is used to start the execution of a thread. It creates a new thread of execution and calls the run() method of the thread. \n",
    "3. join()\n",
    "The join() function is used to wait for the completion of a thread. When called on a thread object, it blocks the calling thread until the thread being joined has finished its execution. \n",
    "4. isAlive()\n",
    "The isAlive() function is used to check if a thread is currently active and running. It returns a Boolean value indicating whether the thread is alive or not."
   ]
  },
  {
   "cell_type": "markdown",
   "id": "090f81a2-9a87-46bd-8322-36050a2abfc8",
   "metadata": {},
   "source": [
    "Q4. Write a python program to create two threads. Thread one must print the list of squares and thread two must print the list of cubes"
   ]
  },
  {
   "cell_type": "markdown",
   "id": "b4f92f51-ba3e-4c48-bd03-adf2d08a2d24",
   "metadata": {},
   "source": [
    "Answer: Here's the code:"
   ]
  },
  {
   "cell_type": "code",
   "execution_count": 1,
   "id": "71b014fd-9e11-469a-ba36-77d4d7367630",
   "metadata": {},
   "outputs": [
    {
     "name": "stdout",
     "output_type": "stream",
     "text": [
      "Square of 1: 1\n",
      "Square of 2: 4\n",
      "Square of 3: 9\n",
      "Square of 4: 16\n",
      "Square of 5: 25\n",
      "Cube of 1: 1\n",
      "Cube of 2: 8\n",
      "Cube of 3: 27\n",
      "Cube of 4: 64\n",
      "Cube of 5: 125\n",
      "Program execution completed.\n"
     ]
    }
   ],
   "source": [
    "import threading\n",
    "\n",
    "def print_squares():\n",
    "    for i in range(1, 6):\n",
    "        print(f\"Square of {i}: {i**2}\")\n",
    "\n",
    "def print_cubes():\n",
    "    for i in range(1, 6):\n",
    "        print(f\"Cube of {i}: {i**3}\")\n",
    "\n",
    "# Create thread objects\n",
    "thread1 = threading.Thread(target=print_squares)\n",
    "thread2 = threading.Thread(target=print_cubes)\n",
    "\n",
    "# Start the threads\n",
    "thread1.start()\n",
    "thread2.start()\n",
    "\n",
    "# Wait for the threads to complete\n",
    "thread1.join()\n",
    "thread2.join()\n",
    "\n",
    "print(\"Program execution completed.\")"
   ]
  },
  {
   "cell_type": "markdown",
   "id": "82957ba2-01cf-4cc4-a595-23a8f9c25dda",
   "metadata": {},
   "source": [
    "Q5. State advantages and disadvantages of multithreading."
   ]
  },
  {
   "cell_type": "markdown",
   "id": "e8747f80-90e5-4a49-b288-baef8ac6c2be",
   "metadata": {},
   "source": [
    "Answer: Here are Advantages of Multithreading:\n",
    "1. Improved Performance: \n",
    "Multithreading allows for concurrent execution of multiple threads, enabling better utilization of CPU resources. It can lead to increased overall performance and responsiveness of a program, especially when dealing with tasks that can be executed in parallel, such as I/O operations or computationally intensive tasks.\n",
    "2. Responsiveness: \n",
    "Multithreading enables a program to remain responsive even when performing time-consuming tasks. By executing such tasks in separate threads, the main thread or user interface can remain active and responsive to user input.\n",
    "3. Resource Sharing: \n",
    "Threads within the same process can easily share memory and resources. This can lead to efficient communication and data sharing between threads, eliminating the need for complex inter-process communication mechanisms.\n",
    "\n",
    "Here are Disadvantages of Multithreading:\n",
    "1. Complexity: \n",
    "Multithreaded programs can be more complex to design, implement, and debug compared to single-threaded programs. Synchronization and coordination between threads can introduce issues such as race conditions, deadlocks, and thread interference, which need careful handling.\n",
    "2. Increased Overhead: \n",
    "Multithreading introduces additional overhead due to thread creation, management, and synchronization. The overhead includes the memory required for thread stacks, context switching between threads, and synchronization primitives, which can impact overall performance.\n",
    "3. Difficult Debugging: \n",
    "Debugging multithreaded programs can be challenging, as threads can execute concurrently and produce unpredictable results. Issues like race conditions and deadlocks may occur intermittently and can be difficult to reproduce and diagnose."
   ]
  },
  {
   "cell_type": "markdown",
   "id": "8de6370d-3288-438a-b085-db9f3692fe17",
   "metadata": {},
   "source": [
    "Q6. Explain deadlocks and race conditions."
   ]
  },
  {
   "cell_type": "markdown",
   "id": "e518263c-9b16-41ce-874d-734abf750d3d",
   "metadata": {},
   "source": [
    "Answer: A deadlock occurs when two or more threads or processes are unable to proceed because each is waiting for a resource that the other holds. \n",
    "Consider two threads, Thread A and Thread B, where Thread A holds Resource X and is waiting for Resource Y, while Thread B holds Resource Y and is waiting for Resource X. Neither thread can proceed, resulting in a deadlock situation.\n",
    "\n",
    "On the other hand, a race condition occurs when multiple threads or processes access and manipulate shared data concurrently, resulting in unpredictable or incorrect behavior.\n",
    "Consider two threads, Thread A and Thread B, accessing and incrementing a shared variable \"count\" concurrently. If both threads read the value of \"count\" at the same time, increment it, and write it back, the final value of \"count\" may not be what was expected due to interleaved execution of the threads."
   ]
  }
 ],
 "metadata": {
  "kernelspec": {
   "display_name": "Python 3 (ipykernel)",
   "language": "python",
   "name": "python3"
  },
  "language_info": {
   "codemirror_mode": {
    "name": "ipython",
    "version": 3
   },
   "file_extension": ".py",
   "mimetype": "text/x-python",
   "name": "python",
   "nbconvert_exporter": "python",
   "pygments_lexer": "ipython3",
   "version": "3.10.8"
  }
 },
 "nbformat": 4,
 "nbformat_minor": 5
}
