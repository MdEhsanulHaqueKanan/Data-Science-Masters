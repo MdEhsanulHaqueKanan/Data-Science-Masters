{
 "cells": [
  {
   "cell_type": "markdown",
   "id": "d76f7f7d-3a22-479b-b97a-92689984f5c6",
   "metadata": {},
   "source": [
    "Q1. What is an Exception in python? Write the difference between Exceptions and syntax errors?"
   ]
  },
  {
   "cell_type": "markdown",
   "id": "c274eef1-5890-4ce6-8af4-28996162143f",
   "metadata": {},
   "source": [
    "Answer: In Python, an exception is an event or condition that interrupts the normal flow of a program's execution. When an exceptional situation occurs, such as an error or an unexpected behavior, an exception is raised. \n",
    "\n",
    "Here are the differences between exceptions and syntax errors:\n",
    "1. Nature of Errors:\n",
    "Syntax errors are related to violations of the language's grammar rules and occur when the code structure or syntax is incorrect. They are detected during the parsing or compilation phase.\n",
    "Exceptions, on the other hand, occur during the execution of a program when an exceptional condition or error is encountered. They can happen even if the code's syntax is correct.\n",
    "\n",
    "2. Occurrence:\n",
    "Syntax errors are typically detected before the program's execution begins, during the parsing or compilation phase. They prevent the program from running.\n",
    "Exceptions, however, occur at runtime when the program is executing. They can be raised explicitly using the raise statement or raised implicitly by built-in functions or methods when certain conditions are met.\n",
    "\n",
    "3. Handling:\n",
    "Syntax errors must be fixed in the code before the program can be executed. They require identifying and correcting the code structure or syntax that violates the language's rules.\n",
    "Exceptions, on the other hand, can be caught and handled by the program using exception handling mechanisms, such as try-except blocks. By handling exceptions, the program can gracefully recover from errors, prevent crashes, and continue execution.\n"
   ]
  },
  {
   "cell_type": "markdown",
   "id": "bc1e78a0-72e0-4026-92fd-ddb0b489f541",
   "metadata": {},
   "source": [
    "Q2. What happens when an exception is not handled? Explain with an example."
   ]
  },
  {
   "cell_type": "markdown",
   "id": "aed0a9a1-227e-4ccc-b0d4-7b2095d21cd6",
   "metadata": {},
   "source": [
    "Answer: When an exception is not handled, it propagates up the call stack until it reaches the top-level of the program or an exception handler is found. If no suitable exception handler is found, the program terminates, and an error message is displayed, indicating the unhandled exception.\n",
    "\n",
    "Here's an example:"
   ]
  },
  {
   "cell_type": "code",
   "execution_count": 12,
   "id": "5c759ea2-d17d-42f3-94a0-19d1f233164d",
   "metadata": {},
   "outputs": [
    {
     "ename": "ZeroDivisionError",
     "evalue": "division by zero",
     "output_type": "error",
     "traceback": [
      "\u001b[0;31m---------------------------------------------------------------------------\u001b[0m",
      "\u001b[0;31mZeroDivisionError\u001b[0m                         Traceback (most recent call last)",
      "Cell \u001b[0;32mIn[12], line 11\u001b[0m\n\u001b[1;32m      8\u001b[0m     \u001b[38;5;28;01mexcept\u001b[39;00m \u001b[38;5;167;01mValueError\u001b[39;00m:\n\u001b[1;32m      9\u001b[0m         \u001b[38;5;28mprint\u001b[39m(\u001b[38;5;124m\"\u001b[39m\u001b[38;5;124mValueError occurred.\u001b[39m\u001b[38;5;124m\"\u001b[39m)\n\u001b[0;32m---> 11\u001b[0m \u001b[43mmain\u001b[49m\u001b[43m(\u001b[49m\u001b[43m)\u001b[49m\n",
      "Cell \u001b[0;32mIn[12], line 6\u001b[0m, in \u001b[0;36mmain\u001b[0;34m()\u001b[0m\n\u001b[1;32m      4\u001b[0m \u001b[38;5;28;01mdef\u001b[39;00m \u001b[38;5;21mmain\u001b[39m():\n\u001b[1;32m      5\u001b[0m     \u001b[38;5;28;01mtry\u001b[39;00m:\n\u001b[0;32m----> 6\u001b[0m         result \u001b[38;5;241m=\u001b[39m \u001b[43mdivide\u001b[49m\u001b[43m(\u001b[49m\u001b[38;5;241;43m10\u001b[39;49m\u001b[43m,\u001b[49m\u001b[43m \u001b[49m\u001b[38;5;241;43m0\u001b[39;49m\u001b[43m)\u001b[49m  \u001b[38;5;66;03m# Division by zero exception occurs here, which is not handled\u001b[39;00m\n\u001b[1;32m      7\u001b[0m         \u001b[38;5;28mprint\u001b[39m(\u001b[38;5;124m\"\u001b[39m\u001b[38;5;124mResult:\u001b[39m\u001b[38;5;124m\"\u001b[39m, result)\n\u001b[1;32m      8\u001b[0m     \u001b[38;5;28;01mexcept\u001b[39;00m \u001b[38;5;167;01mValueError\u001b[39;00m:\n",
      "Cell \u001b[0;32mIn[12], line 2\u001b[0m, in \u001b[0;36mdivide\u001b[0;34m(a, b)\u001b[0m\n\u001b[1;32m      1\u001b[0m \u001b[38;5;28;01mdef\u001b[39;00m \u001b[38;5;21mdivide\u001b[39m(a, b):\n\u001b[0;32m----> 2\u001b[0m     \u001b[38;5;28;01mreturn\u001b[39;00m \u001b[43ma\u001b[49m\u001b[43m \u001b[49m\u001b[38;5;241;43m/\u001b[39;49m\u001b[43m \u001b[49m\u001b[43mb\u001b[49m\n",
      "\u001b[0;31mZeroDivisionError\u001b[0m: division by zero"
     ]
    }
   ],
   "source": [
    "def divide(a, b):\n",
    "    return a / b\n",
    "\n",
    "def main():\n",
    "    try:\n",
    "        result = divide(10, 0)  # Division by zero exception occurs here, which is not handled\n",
    "        print(\"Result:\", result)\n",
    "    except ValueError:\n",
    "        print(\"ValueError occurred.\")\n",
    "\n",
    "main()"
   ]
  },
  {
   "cell_type": "markdown",
   "id": "19aa6d3b-a9b3-4869-b69f-21d258c517b9",
   "metadata": {},
   "source": [
    "Q3. Which Python statements are used to catch and handle exceptions? Explain with an example."
   ]
  },
  {
   "cell_type": "markdown",
   "id": "1156ac4e-d44d-47bf-8c73-0e62a2e22e99",
   "metadata": {},
   "source": [
    "Answer: In Python, the try and except statements are used to catch and handle exceptions.  \n",
    "Here is an example:"
   ]
  },
  {
   "cell_type": "code",
   "execution_count": 13,
   "id": "43a3e633-4225-46bb-8d85-8f8670fed9fa",
   "metadata": {},
   "outputs": [
    {
     "name": "stdout",
     "output_type": "stream",
     "text": [
      "Result: 5.0\n",
      "No exceptions occurred.\n",
      "\n",
      "Error: Division by zero occurred.\n",
      "\n",
      "Error: Invalid data types used for division.\n"
     ]
    }
   ],
   "source": [
    "def divide(a, b):\n",
    "    try:\n",
    "        result = a / b\n",
    "        print(\"Result:\", result)\n",
    "    except ZeroDivisionError:\n",
    "        print(\"Error: Division by zero occurred.\")\n",
    "    except TypeError:\n",
    "        print(\"Error: Invalid data types used for division.\")\n",
    "    except Exception as e:\n",
    "        print(\"Error:\", str(e))\n",
    "    else:\n",
    "        print(\"No exceptions occurred.\")\n",
    "\n",
    "divide(10, 2)  # No exceptions occur\n",
    "print()  # Print an empty line\n",
    "divide(10, 0)  # Division by zero exception occurs\n",
    "print()  # Print an empty line\n",
    "divide(10, '2')  # TypeError exception occurs\n"
   ]
  },
  {
   "cell_type": "markdown",
   "id": "43d45dd5-7a9f-4306-b930-6bfad49e2bb5",
   "metadata": {},
   "source": [
    "Q4. Explain with an example:\n",
    "a. try and else \n",
    "b. finally\n",
    "c. raise"
   ]
  },
  {
   "cell_type": "markdown",
   "id": "c82e5dac-4016-4049-91f5-5d12c54b79cb",
   "metadata": {},
   "source": [
    "a. try and else:\n",
    "The try block is used to enclose the code that might raise an exception, and the else block is used to define the code that should be executed if no exceptions occur within the try block.\n",
    "\n",
    "Here's an example: "
   ]
  },
  {
   "cell_type": "code",
   "execution_count": 14,
   "id": "8f3d1f28-a2cb-4571-ac1c-fde63996e186",
   "metadata": {},
   "outputs": [
    {
     "name": "stdout",
     "output_type": "stream",
     "text": [
      "Result: 5.0\n",
      "Error: Division by zero occurred.\n"
     ]
    }
   ],
   "source": [
    "def divide(a, b):\n",
    "    try:\n",
    "        result = a / b\n",
    "    except ZeroDivisionError:\n",
    "        print(\"Error: Division by zero occurred.\")\n",
    "    else:\n",
    "        print(\"Result:\", result)\n",
    "\n",
    "divide(10, 2)  # No exceptions occur\n",
    "divide(10, 0)  # Division by zero exception occurs\n"
   ]
  },
  {
   "cell_type": "markdown",
   "id": "c5fb51f2-274b-4bcb-bf06-14ab329e9c96",
   "metadata": {},
   "source": [
    "b. finally:\n",
    "The finally block is used to define a section of code that will always be executed, regardless of whether an exception occurred or not. It is often used for cleanup or finalization tasks.\n",
    "\n",
    "Here's an example:"
   ]
  },
  {
   "cell_type": "code",
   "execution_count": 15,
   "id": "fc4554da-c9b1-4de5-a93e-7d80de6e726b",
   "metadata": {},
   "outputs": [
    {
     "name": "stdout",
     "output_type": "stream",
     "text": [
      "Result: 5.0\n",
      "Finally block executed.\n",
      "\n",
      "Error: Division by zero occurred.\n",
      "Finally block executed.\n"
     ]
    }
   ],
   "source": [
    "def divide(a, b):\n",
    "    try:\n",
    "        result = a / b\n",
    "        print(\"Result:\", result)\n",
    "    except ZeroDivisionError:\n",
    "        print(\"Error: Division by zero occurred.\")\n",
    "    finally:\n",
    "        print(\"Finally block executed.\")\n",
    "\n",
    "divide(10, 2)  # No exceptions occur\n",
    "print()  # Print an empty line\n",
    "divide(10, 0)  # Division by zero exception occurs"
   ]
  },
  {
   "cell_type": "markdown",
   "id": "cf0f192d-f46c-4a4b-9c86-11b8c1b672d2",
   "metadata": {},
   "source": [
    "c. raise:\n",
    "The raise statement is used to explicitly raise an exception in Python. It allows you to generate and trigger exceptions based on certain conditions or requirements.\n",
    "\n",
    "Here's an example: "
   ]
  },
  {
   "cell_type": "code",
   "execution_count": 17,
   "id": "9b8e6bc3-fad7-4a09-bf65-e4fc0cf22c57",
   "metadata": {},
   "outputs": [
    {
     "name": "stdout",
     "output_type": "stream",
     "text": [
      "Error: Age cannot be negative.\n"
     ]
    }
   ],
   "source": [
    "def validate_age(age):\n",
    "    if age < 0:\n",
    "        raise ValueError(\"Age cannot be negative.\")\n",
    "    elif age > 120:\n",
    "        raise ValueError(\"Age cannot exceed 120.\")\n",
    "    else:\n",
    "        print(\"Age is valid.\")\n",
    "\n",
    "try:\n",
    "    validate_age(-5)  # Raises a ValueError\n",
    "except ValueError as e:\n",
    "    print(\"Error:\", str(e))\n"
   ]
  },
  {
   "cell_type": "markdown",
   "id": "de6b5da5-8fa3-431c-b885-a4e816b439f5",
   "metadata": {},
   "source": [
    "Q5. What are Custom Exceptions in Python? Why do we need Custom Exceptions? Explain with\n",
    "an example."
   ]
  },
  {
   "cell_type": "markdown",
   "id": "2ecae050-526d-4a82-a42a-22eb81a56294",
   "metadata": {},
   "source": [
    "Answer: In Python, custom exceptions are user-defined exception classes that inherit from the built-in Exception class or any of its subclasses. Custom exceptions allow you to define your own exceptional conditions that can occur in your code and raise them when necessary.\n",
    "\n",
    "Here's an example:"
   ]
  },
  {
   "cell_type": "code",
   "execution_count": 20,
   "id": "e9ea995d-99b7-43fb-a337-a3d61fc6e418",
   "metadata": {},
   "outputs": [
    {
     "name": "stdout",
     "output_type": "stream",
     "text": [
      "Error: Input cannot be negative.\n"
     ]
    }
   ],
   "source": [
    "class InvalidInputError(Exception):\n",
    "    pass\n",
    "\n",
    "def calculate_square_root(num):\n",
    "    if num < 0:\n",
    "        raise InvalidInputError(\"Input cannot be negative.\")\n",
    "    else:\n",
    "        return num ** 0.5\n",
    "\n",
    "try:\n",
    "    result = calculate_square_root(-9)\n",
    "    print(\"Square root:\", result)\n",
    "except InvalidInputError as e:\n",
    "    print(\"Error:\", str(e))\n"
   ]
  },
  {
   "cell_type": "markdown",
   "id": "685ae2ec-ae88-4a75-a32b-650f932feb94",
   "metadata": {},
   "source": [
    "Q6. Create custom exception class. Use this class to handle an exception."
   ]
  },
  {
   "cell_type": "markdown",
   "id": "a91b0f6b-b946-4681-9d78-5f565441ace3",
   "metadata": {},
   "source": [
    "Answer: Here's the code:"
   ]
  },
  {
   "cell_type": "code",
   "execution_count": 21,
   "id": "4efeca2c-15db-44e1-a130-f26a5b5a69b8",
   "metadata": {},
   "outputs": [
    {
     "name": "stdout",
     "output_type": "stream",
     "text": [
      "Error: Cannot divide by zero.\n"
     ]
    }
   ],
   "source": [
    "class InvalidInputError(Exception):\n",
    "    def __init__(self, message):\n",
    "        super().__init__(message)\n",
    "\n",
    "def divide_numbers(a, b):\n",
    "    if b == 0:\n",
    "        raise InvalidInputError(\"Cannot divide by zero.\")\n",
    "    return a / b\n",
    "\n",
    "try:\n",
    "    result = divide_numbers(10, 0)\n",
    "    print(\"Result:\", result)\n",
    "except InvalidInputError as e:\n",
    "    print(\"Error:\", str(e))"
   ]
  },
  {
   "cell_type": "code",
   "execution_count": null,
   "id": "ae15e977-b1ba-4da8-b4fc-54adf58c56f3",
   "metadata": {},
   "outputs": [],
   "source": []
  }
 ],
 "metadata": {
  "kernelspec": {
   "display_name": "Python 3 (ipykernel)",
   "language": "python",
   "name": "python3"
  },
  "language_info": {
   "codemirror_mode": {
    "name": "ipython",
    "version": 3
   },
   "file_extension": ".py",
   "mimetype": "text/x-python",
   "name": "python",
   "nbconvert_exporter": "python",
   "pygments_lexer": "ipython3",
   "version": "3.10.8"
  }
 },
 "nbformat": 4,
 "nbformat_minor": 5
}
