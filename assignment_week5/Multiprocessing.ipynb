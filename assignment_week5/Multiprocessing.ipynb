{
 "cells": [
  {
   "cell_type": "markdown",
   "id": "7d8d2676-6060-4e77-bd0b-93e62da889e1",
   "metadata": {},
   "source": [
    "Q1. What is multiprocessing in Python? Why is it useful?"
   ]
  },
  {
   "cell_type": "markdown",
   "id": "b085f8e7-a477-4bea-a267-a367e0270b00",
   "metadata": {},
   "source": [
    "Answer: Multiprocessing in Python refers to the ability of a program to utilize multiple processors or CPU cores to execute tasks in parallel.\n",
    "Multiprocessing is useful in Python to achieve true parallelism, as it enables different processes to run simultaneously and independently, utilizing separate memory spaces. This is particularly beneficial for CPU-intensive tasks, as they can be distributed across multiple cores, leading to improved performance and reduced execution time.\n",
    "By leveraging multiprocessing, Python programs can overcome the limitations of the Global Interpreter Lock (GIL) and harness the full potential of modern multicore processors, resulting in enhanced computational power and scalability."
   ]
  },
  {
   "cell_type": "markdown",
   "id": "cb601de8-1c5d-4cfe-acf1-e7af6d746cf8",
   "metadata": {},
   "source": [
    "Q2. What are the differences between multiprocessing and multithreading?"
   ]
  },
  {
   "cell_type": "markdown",
   "id": "036e2bfe-cb3f-41f6-8350-2019258d67a8",
   "metadata": {},
   "source": [
    "Answer: Here are the main differences between multiprocessing and multithreading:\n",
    "\n",
    "1. Execution Model: \n",
    "In multiprocessing, multiple processes run independently, each with its own memory space. In multithreading, multiple threads share the same memory space within a single process.\n",
    "2. Resource Utilization: \n",
    "Multiprocessing can utilize multiple CPUs or cores for parallel execution, while multithreading is limited by the Global Interpreter Lock (GIL) in Python, allowing only one thread to execute at a time, even on multicore systems.\n",
    "3. Complexity: \n",
    "Multithreading is generally easier to implement and has less overhead, while multiprocessing requires more complex synchronization mechanisms and has higher overhead due to inter-process communication."
   ]
  },
  {
   "cell_type": "markdown",
   "id": "c21c0ff3-b0d3-4825-a499-138cf5fa7e77",
   "metadata": {},
   "source": [
    "Q3. Write a Python code to create a process using the multiprocessing module."
   ]
  },
  {
   "cell_type": "markdown",
   "id": "25aa92f1-f8da-478b-b7a2-5e477c26a13b",
   "metadata": {},
   "source": [
    "Answer: Here's the code:"
   ]
  },
  {
   "cell_type": "code",
   "execution_count": 1,
   "id": "bfe20621-c074-4eb6-825d-0e5dad8eebbd",
   "metadata": {},
   "outputs": [
    {
     "name": "stdout",
     "output_type": "stream",
     "text": [
      "This is a child process.\n",
      "This is the main process.\n"
     ]
    }
   ],
   "source": [
    "import multiprocessing\n",
    "\n",
    "def process_function():\n",
    "    print(\"This is a child process.\")\n",
    "\n",
    "if __name__ == '__main__':\n",
    "    # Create a Process object\n",
    "    process = multiprocessing.Process(target=process_function)\n",
    "\n",
    "    # Start the process\n",
    "    process.start()\n",
    "\n",
    "    # Wait for the process to finish\n",
    "    process.join()\n",
    "\n",
    "    print(\"This is the main process.\")\n"
   ]
  },
  {
   "cell_type": "markdown",
   "id": "4001e2b0-3ba2-487b-ae67-3f289ab8e748",
   "metadata": {},
   "source": [
    "Q4. What is a multiprocessing pool in python? Why is it used?"
   ]
  },
  {
   "cell_type": "markdown",
   "id": "4f564fa1-9789-4a88-9d79-acc7dfe36685",
   "metadata": {},
   "source": [
    "Answer: A multiprocessing pool in Python is a way to distribute tasks across multiple processes efficiently. It allows you to create a pool of worker processes to perform tasks in parallel, enabling faster execution and better utilization of CPU resources."
   ]
  },
  {
   "cell_type": "markdown",
   "id": "cea3653b-68a4-4fbc-9916-641676773454",
   "metadata": {},
   "source": [
    "Q5. How can we create a pool of worker processes in python using the multiprocessing module?"
   ]
  },
  {
   "cell_type": "markdown",
   "id": "899ebca3-7cf9-4544-87c7-0a8109daede3",
   "metadata": {},
   "source": [
    "Answer: To create a pool of worker processes in Python using the multiprocessing module, you can utilize the Pool class. \n",
    "Here's the code:"
   ]
  },
  {
   "cell_type": "code",
   "execution_count": 2,
   "id": "38b4cdcc-b996-42f2-bf88-b5dc67ea9bbf",
   "metadata": {},
   "outputs": [
    {
     "name": "stdout",
     "output_type": "stream",
     "text": [
      "[1, 4, 9, 16, 25]\n"
     ]
    }
   ],
   "source": [
    "import multiprocessing\n",
    "\n",
    "def worker_function(number):\n",
    "    result = number ** 2\n",
    "    return result\n",
    "\n",
    "if __name__ == '__main__':\n",
    "    # Create a pool of worker processes\n",
    "    pool = multiprocessing.Pool()\n",
    "\n",
    "    # Define the list of tasks\n",
    "    tasks = [1, 2, 3, 4, 5]\n",
    "\n",
    "    # Apply the worker function to the tasks using the pool\n",
    "    results = pool.map(worker_function, tasks)\n",
    "\n",
    "    # Print the results\n",
    "    print(results)\n",
    "\n",
    "    # Close the pool\n",
    "    pool.close()\n",
    "    pool.join()\n"
   ]
  },
  {
   "cell_type": "markdown",
   "id": "e3f78f82-a48d-4f1f-b359-ba68308b6065",
   "metadata": {},
   "source": [
    "Q6. Write a python program to create 4 processes, each process should print a different number using the\n",
    "multiprocessing module in python."
   ]
  },
  {
   "cell_type": "markdown",
   "id": "c690569f-3b25-4c05-9af9-3e7926dcf0fb",
   "metadata": {},
   "source": [
    "Answer: Here's the code:"
   ]
  },
  {
   "cell_type": "code",
   "execution_count": 3,
   "id": "9fcd0cfa-194c-4aa2-aee3-4f39b5bb9cf8",
   "metadata": {},
   "outputs": [
    {
     "name": "stdout",
     "output_type": "stream",
     "text": [
      "Process 1: 1\n",
      "Process 2: 2\n",
      "Process 3: 3\n",
      "Process 4: 4\n",
      "Program execution completed.\n"
     ]
    }
   ],
   "source": [
    "import multiprocessing\n",
    "\n",
    "def print_number(number):\n",
    "    print(f\"Process {number}: {number}\")\n",
    "\n",
    "if __name__ == '__main__':\n",
    "    processes = []\n",
    "\n",
    "    for i in range(1, 5):\n",
    "        process = multiprocessing.Process(target=print_number, args=(i,))\n",
    "        processes.append(process)\n",
    "        process.start()\n",
    "\n",
    "    for process in processes:\n",
    "        process.join()\n",
    "\n",
    "    print(\"Program execution completed.\")\n"
   ]
  },
  {
   "cell_type": "code",
   "execution_count": null,
   "id": "2b4dd5e4-b57f-4275-8099-c6e8af709b7f",
   "metadata": {},
   "outputs": [],
   "source": []
  }
 ],
 "metadata": {
  "kernelspec": {
   "display_name": "Python 3 (ipykernel)",
   "language": "python",
   "name": "python3"
  },
  "language_info": {
   "codemirror_mode": {
    "name": "ipython",
    "version": 3
   },
   "file_extension": ".py",
   "mimetype": "text/x-python",
   "name": "python",
   "nbconvert_exporter": "python",
   "pygments_lexer": "ipython3",
   "version": "3.10.8"
  }
 },
 "nbformat": 4,
 "nbformat_minor": 5
}
