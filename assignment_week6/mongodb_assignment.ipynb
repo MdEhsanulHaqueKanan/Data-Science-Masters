{
 "cells": [
  {
   "cell_type": "markdown",
   "id": "95d80959-43d5-4633-af86-b81e624cfb2b",
   "metadata": {},
   "source": [
    "Q1. What is MongoDB? Explain non-relational databases in short. In which scenarios it is preferred to use \n",
    "MongoDB over SQL databases?"
   ]
  },
  {
   "cell_type": "markdown",
   "id": "cd90a0c2-b3a6-4280-a121-9e8eb72c479a",
   "metadata": {},
   "source": [
    "Answer: MongoDB is a type of database that stores information in a flexible and scalable way. It's particularly good at handling large amounts of data and is often used in modern web applications.\n",
    "\n",
    "Non-relational databases, also known as NoSQL databases, are a type of database that stores and retrieves data in a flexible manner, without using traditional tabular relations like in a spreadsheet. They allow for faster and more scalable data management, making them suitable for handling large volumes of diverse data in modern applications. \n",
    "\n",
    "MongoDB is preferred over SQL databases in the following scenarios:\n",
    "\n",
    "1. Flexible and evolving data structure: MongoDB is suitable when the data structure is likely to change or evolve over time, as it doesn't enforce a rigid schema.\n",
    "\n",
    "2. Large amounts of unstructured or semi-structured data: If your data doesn't fit well into a tabular structure, MongoDB's document-oriented model allows for efficient storage and retrieval.\n",
    "\n",
    "3. High scalability and performance: MongoDB excels in horizontal scalability, making it a good choice for applications that require high performance and need to handle large amounts of data.\n",
    "\n",
    "4. Agile development and rapid iterations: MongoDB's flexible schema and document-based structure enable developers to iterate quickly and adapt to changing requirements during development.\n",
    "\n",
    "5. Real-time analytics and caching: MongoDB's flexible data model and built-in caching capabilities make it well-suited for real-time analytics and caching use cases.\n"
   ]
  },
  {
   "cell_type": "markdown",
   "id": "f7f9581e-86f7-4896-9cd1-e40acde9f24d",
   "metadata": {},
   "source": [
    "Q2. State and Explain the features of MongoDB."
   ]
  },
  {
   "cell_type": "markdown",
   "id": "dc28de50-2bb1-40d8-a859-66a91f90fa38",
   "metadata": {},
   "source": [
    "Answer: Here are the features of MongoDB:\n",
    "\n",
    "1. Flexible document model: MongoDB uses a document-oriented data model, allowing for flexible and dynamic schemas.\n",
    "\n",
    "2. Scalability: It supports horizontal scaling, allowing for distributed data storage across multiple servers, ensuring high availability and performance.\n",
    "\n",
    "3. Replication and failover: MongoDB provides built-in replication and failover mechanisms to ensure data durability and availability.\n",
    "\n",
    "4. Indexing and querying: It supports various indexing techniques and a powerful query language for efficient data retrieval.\n",
    "\n",
    "5. Aggregation framework: MongoDB offers a rich set of aggregation operators and pipelines for complex data aggregation and analytics."
   ]
  },
  {
   "cell_type": "markdown",
   "id": "6d1fe995-af8d-471f-8f67-323ce8c099f9",
   "metadata": {},
   "source": [
    "Q3. Write a code to connect MongoDB to Python. Also, create a database and a collection in MongoDB."
   ]
  },
  {
   "cell_type": "markdown",
   "id": "78feeb24-2b5d-48bc-a8b1-34c34414b90c",
   "metadata": {},
   "source": [
    "Answer: Here is the code:"
   ]
  },
  {
   "cell_type": "code",
   "execution_count": null,
   "id": "64e9fd77-ed36-48a7-968c-13ef814ecd4f",
   "metadata": {},
   "outputs": [],
   "source": [
    "from pymongo import MongoClient\n",
    "\n",
    "# Connect to MongoDB\n",
    "client = MongoClient('mongodb://localhost:27017')\n",
    "\n",
    "# Create or access a database\n",
    "database = client['mydatabase']\n",
    "\n",
    "# Create or access a collection\n",
    "collection = database['mycollection']\n",
    "\n",
    "# Example document to insert into the collection\n",
    "document = {\n",
    "    'name': 'John Doe',\n",
    "    'age': 30,\n",
    "    'city': 'New York'\n",
    "}\n",
    "\n",
    "# Insert the document into the collection\n",
    "collection.insert_one(document)\n",
    "\n",
    "# Print the document ID\n",
    "print('Inserted document ID:', document['_id'])\n"
   ]
  },
  {
   "cell_type": "markdown",
   "id": "106cc080-342d-4fea-a2cb-5289420918e0",
   "metadata": {},
   "source": [
    "Q4. Using the database and the collection created in question number 3, write a code to insert one record, \n",
    "and insert many records. Use the find() and find_one() methods to print the inserted record"
   ]
  },
  {
   "cell_type": "markdown",
   "id": "3d25732e-ddcf-4a22-abdc-df0d4754c266",
   "metadata": {},
   "source": [
    "Answer: Here is the code:"
   ]
  },
  {
   "cell_type": "code",
   "execution_count": null,
   "id": "846a89c0-e412-4523-81a4-59629b41a313",
   "metadata": {},
   "outputs": [],
   "source": [
    "from pymongo import MongoClient\n",
    "\n",
    "# Connect to MongoDB\n",
    "client = MongoClient('mongodb://localhost:27017')\n",
    "\n",
    "# Access the previously created database and collection\n",
    "database = client['mydatabase']\n",
    "collection = database['mycollection']\n",
    "\n",
    "# Insert one record\n",
    "document1 = {\n",
    "    'name': 'Alice',\n",
    "    'age': 25,\n",
    "    'city': 'London'\n",
    "}\n",
    "collection.insert_one(document1)\n",
    "print('Inserted document:', document1)\n",
    "\n",
    "# Insert multiple records\n",
    "documents = [\n",
    "    {\n",
    "        'name': 'Bob',\n",
    "        'age': 32,\n",
    "        'city': 'Paris'\n",
    "    },\n",
    "    {\n",
    "        'name': 'Charlie',\n",
    "        'age': 40,\n",
    "        'city': 'Berlin'\n",
    "    }\n",
    "]\n",
    "collection.insert_many(documents)\n",
    "print('Inserted documents:', documents)\n",
    "\n",
    "# Find and print the inserted records\n",
    "print('All documents:')\n",
    "for document in collection.find():\n",
    "    print(document)\n",
    "\n",
    "# Find and print one document\n",
    "print('One document:')\n",
    "print(collection.find_one())\n"
   ]
  },
  {
   "cell_type": "markdown",
   "id": "8fddd47a-ca72-4202-a763-80b3d090ea8e",
   "metadata": {},
   "source": [
    "Q5. Explain how you can use the find() method to query the MongoDB database. Write a simple code to \n",
    "demonstrate this."
   ]
  },
  {
   "cell_type": "markdown",
   "id": "c9542955-206f-4efb-8946-d0832b159a51",
   "metadata": {},
   "source": [
    "Answer: To query a MongoDB database using the find() method, you can provide a query document as a parameter to filter the results based on specific criteria. The find() method returns a cursor, which you can iterate over to access the matching documents. Here's a simple code example:"
   ]
  },
  {
   "cell_type": "code",
   "execution_count": null,
   "id": "d45a1009-c2b1-42ac-ae96-4a8fa72854d6",
   "metadata": {},
   "outputs": [],
   "source": [
    "from pymongo import MongoClient\n",
    "\n",
    "# Connect to MongoDB\n",
    "client = MongoClient('mongodb://localhost:27017')\n",
    "\n",
    "# Access the database and collection\n",
    "database = client['mydatabase']\n",
    "collection = database['mycollection']\n",
    "\n",
    "# Query the collection using find()\n",
    "query = {'city': 'London'}\n",
    "cursor = collection.find(query)\n",
    "\n",
    "# Iterate over the cursor and print the matching documents\n",
    "for document in cursor:\n",
    "    print(document)\n"
   ]
  },
  {
   "cell_type": "markdown",
   "id": "b1267185-4cb0-412b-9f96-ac935fa244cb",
   "metadata": {},
   "source": [
    "Q6. Explain the sort() method. Give an example to demonstrate sorting in MongoDB."
   ]
  },
  {
   "cell_type": "markdown",
   "id": "dbc0c5bc-d89e-48a3-abc7-a68cee3d5f97",
   "metadata": {},
   "source": [
    "Answer: The sort() method in MongoDB is used to sort the documents in a collection based on one or more fields. It allows you to specify the sorting order, whether ascending or descending, for the desired fields.\n",
    "\n",
    "Here is an example:"
   ]
  },
  {
   "cell_type": "code",
   "execution_count": null,
   "id": "c3d5a770-d190-473e-a707-e7f72ea70c53",
   "metadata": {},
   "outputs": [],
   "source": [
    "from pymongo import MongoClient\n",
    "\n",
    "# Connect to MongoDB\n",
    "client = MongoClient('mongodb://localhost:27017')\n",
    "\n",
    "# Access the database and collection\n",
    "database = client['mydatabase']\n",
    "collection = database['mycollection']\n",
    "\n",
    "# Query and sort the collection\n",
    "query = {'city': 'London'}\n",
    "cursor = collection.find(query).sort('name', 1)\n",
    "\n",
    "# Iterate over the cursor and print the sorted documents\n",
    "for document in cursor:\n",
    "    print(document)\n"
   ]
  },
  {
   "cell_type": "markdown",
   "id": "4671d589-ba2a-4435-8b79-edd1c89b9d60",
   "metadata": {},
   "source": [
    "In this example, we connect to MongoDB, access the mydatabase database, and mycollection collection. We define a query document {'city': 'London'} to filter the results. We use the sort() method to sort the documents based on the 'name' field in ascending order (indicated by 1). You can use -1 for descending order."
   ]
  },
  {
   "cell_type": "markdown",
   "id": "b1de507f-c539-4f37-86be-adbc9fa4b706",
   "metadata": {},
   "source": [
    "Q7. Explain why delete_one(), delete_many(), and drop() is used."
   ]
  },
  {
   "cell_type": "markdown",
   "id": "f5905c63-4321-44bf-930d-8b3460ce4760",
   "metadata": {},
   "source": [
    "1. delete_one(filter): This method is used to delete a single document that matches the given filter criteria. It removes the first document that matches the filter from the collection. If multiple documents match the filter, only the first one encountered will be deleted.\n",
    "\n",
    "2. delete_many(filter): This method is used to delete multiple documents that match the given filter criteria. It removes all documents that satisfy the filter condition from the collection. It is useful when you want to delete a subset or multiple instances of data from the collection.\n",
    "\n",
    "3. drop(): This method is used to drop an entire collection from the database. Dropping a collection removes all documents and associated indexes, permanently deleting the data. It is commonly used when you no longer need the collection or when you want to start afresh with an empty collection."
   ]
  },
  {
   "cell_type": "code",
   "execution_count": null,
   "id": "9e6ddd26-98bb-4a8e-addc-5939c4809bea",
   "metadata": {},
   "outputs": [],
   "source": []
  }
 ],
 "metadata": {
  "kernelspec": {
   "display_name": "Python 3 (ipykernel)",
   "language": "python",
   "name": "python3"
  },
  "language_info": {
   "codemirror_mode": {
    "name": "ipython",
    "version": 3
   },
   "file_extension": ".py",
   "mimetype": "text/x-python",
   "name": "python",
   "nbconvert_exporter": "python",
   "pygments_lexer": "ipython3",
   "version": "3.10.8"
  }
 },
 "nbformat": 4,
 "nbformat_minor": 5
}
