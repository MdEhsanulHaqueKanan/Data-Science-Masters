{
 "cells": [
  {
   "cell_type": "markdown",
   "id": "56d8f268-8ecc-4642-a185-5c054423d64e",
   "metadata": {},
   "source": [
    "Q1. What is a database? Differentiate between SQL and NoSQL databases"
   ]
  },
  {
   "cell_type": "markdown",
   "id": "2fd7e613-962a-49d6-9ff2-e65fdfb296b0",
   "metadata": {},
   "source": [
    "Answer: A database is a structured collection of data that enables efficient storage, retrieval, and management of information.\n",
    "\n",
    "Here are the differences between SQL and NoSQL databases:\n",
    "\n",
    "1. SQL databases are based on the relational model, while NoSQL databases offer various data models such as key-value, document, columnar, and graph databases.\n",
    "\n",
    "2. SQL databases enforce strong data consistency and support complex joins and transactions, whereas NoSQL databases prioritize scalability, flexibility, and high availability.\n",
    "\n",
    "3. SQL databases use structured schemas with tables, rows, and columns, while NoSQL databases provide flexible schemas or no schemas at all.\n",
    "\n",
    "4. SQL databases are suitable for structured data, while NoSQL databases can handle unstructured, semi-structured, and structured data.\n",
    "\n",
    "5. SQL databases typically have well-defined and standardized query languages like SQL, while NoSQL databases have their own query mechanisms or use APIs for data retrieval and manipulation\n"
   ]
  },
  {
   "cell_type": "markdown",
   "id": "f5786e4a-9179-4c03-8535-a9c41b334c96",
   "metadata": {},
   "source": [
    "Q2. What is DDL? Explain why CREATE, DROP, ALTER, and TRUNCATE are used with an example"
   ]
  },
  {
   "cell_type": "markdown",
   "id": "0e365f86-4a14-4698-a454-7349cbd75145",
   "metadata": {},
   "source": [
    "Answer: DDL stands for Data Definition Language, which is a subset of SQL used to define and manage the structure of a database. It includes commands like CREATE, DROP, ALTER, and TRUNCATE, which perform specific operations on database objects."
   ]
  },
  {
   "cell_type": "markdown",
   "id": "10f1b13e-bc61-471a-8f71-a7f98885e1ee",
   "metadata": {},
   "source": [
    "CREATE: CREATE is used to create new database objects like tables, views, indexes, or schemas. Here is an example:"
   ]
  },
  {
   "cell_type": "code",
   "execution_count": null,
   "id": "2abae4ee-841b-47a0-a507-89aeae29d9b3",
   "metadata": {},
   "outputs": [],
   "source": [
    "CREATE TABLE students (\n",
    "    id INT PRIMARY KEY,\n",
    "    name VARCHAR(50),\n",
    "    age INT\n",
    ");\n"
   ]
  },
  {
   "cell_type": "markdown",
   "id": "5ee2f347-c93c-4b6b-8d71-69e8a4f34c6f",
   "metadata": {},
   "source": [
    "This statement creates a table called \"students\" with columns for ID, name, and age."
   ]
  },
  {
   "cell_type": "markdown",
   "id": "c6ece350-4f4b-4729-b49a-39d1cb32bb49",
   "metadata": {},
   "source": [
    "DROP: DRP is used to remove existing database objects like tables, views, or indexes. Here is an example:"
   ]
  },
  {
   "cell_type": "code",
   "execution_count": null,
   "id": "6cbecb4d-d4c5-4150-b7f1-1234988996e7",
   "metadata": {},
   "outputs": [],
   "source": [
    "DROP TABLE students;"
   ]
  },
  {
   "cell_type": "markdown",
   "id": "a1a03f4a-b5fd-496e-ae0e-4a0779340377",
   "metadata": {},
   "source": [
    "This statement drops the \"students\" table from the database."
   ]
  },
  {
   "cell_type": "markdown",
   "id": "5860d8f9-ee56-4940-b48e-4c8761109ea7",
   "metadata": {},
   "source": [
    "ALTER: It is used to modify the structure of an existing database object. For example, "
   ]
  },
  {
   "cell_type": "code",
   "execution_count": null,
   "id": "e6ea335d-faee-4574-9282-24a448de4c31",
   "metadata": {},
   "outputs": [],
   "source": [
    "ALTER TABLE students ADD COLUMN email VARCHAR(100);"
   ]
  },
  {
   "cell_type": "markdown",
   "id": "6ea9bdcb-ed3e-4228-b053-2b6085f19bcd",
   "metadata": {},
   "source": [
    "This statement adds an \"email\" column to the \"students\" table."
   ]
  },
  {
   "cell_type": "markdown",
   "id": "de90390d-26a9-456c-ad34-5bb1715b0561",
   "metadata": {},
   "source": [
    "TRUNCATE: It is used to remove all data from a table while keeping its structure intact. Here is an example:"
   ]
  },
  {
   "cell_type": "code",
   "execution_count": null,
   "id": "05d7df60-36bb-4fb2-aa83-4f685522debc",
   "metadata": {},
   "outputs": [],
   "source": [
    "TRUNCATE TABLE students;"
   ]
  },
  {
   "cell_type": "markdown",
   "id": "1325f010-395c-4dea-9f8f-ae06832c3155",
   "metadata": {},
   "source": [
    "This statement deletes all rows from the \"students\" table, effectively emptying it."
   ]
  },
  {
   "cell_type": "markdown",
   "id": "6b762eb9-d49e-43b4-a7af-48d7a0dad10f",
   "metadata": {},
   "source": [
    "Q3. What is DML? Explain INSERT, UPDATE, and DELETE with an example."
   ]
  },
  {
   "cell_type": "markdown",
   "id": "bec2c874-8e7f-4043-a37e-721611c9a811",
   "metadata": {},
   "source": [
    "Answer: DML stands for Data Manipulation Language, which is a subset of SQL used to manipulate and retrieve data within a database. It includes commands like INSERT, UPDATE, and DELETE, which perform specific data manipulation operations."
   ]
  },
  {
   "cell_type": "markdown",
   "id": "684bbe9e-30c2-4fd9-8ed3-4bae8441d851",
   "metadata": {},
   "source": [
    "INSERT: It is used to add new rows of data into a table. Here is an example:"
   ]
  },
  {
   "cell_type": "code",
   "execution_count": null,
   "id": "9716490b-5d85-4be1-ae3b-f3981b0081ae",
   "metadata": {},
   "outputs": [],
   "source": [
    "INSERT INTO students (id, name, age) VALUES (1, 'John Doe', 25);"
   ]
  },
  {
   "cell_type": "markdown",
   "id": "0172f5c9-4c39-47c9-81fc-a7e6613f8986",
   "metadata": {},
   "source": [
    "This statement inserts a new row into the \"students\" table with the specified values for ID, name, and age."
   ]
  },
  {
   "cell_type": "markdown",
   "id": "8a0be619-219e-494b-aeef-525864bde071",
   "metadata": {},
   "source": [
    "UPDATE: It is used to modify existing data in a table. Here is an example:"
   ]
  },
  {
   "cell_type": "code",
   "execution_count": null,
   "id": "48ddc2e5-f47e-4a59-a4a2-ad09ebc4cff1",
   "metadata": {},
   "outputs": [],
   "source": [
    "UPDATE students SET age = 26 WHERE id = 1;"
   ]
  },
  {
   "cell_type": "markdown",
   "id": "83a4cc9a-1a3e-45fb-98fa-c2e364861908",
   "metadata": {},
   "source": [
    "This statement updates the age value to 26 for the row in the \"students\" table where the ID is 1."
   ]
  },
  {
   "cell_type": "markdown",
   "id": "9c10783d-a842-4e41-ba70-88259927f1ae",
   "metadata": {},
   "source": [
    "DELETE: It is used to remove rows of data from a table. Here is an example:"
   ]
  },
  {
   "cell_type": "code",
   "execution_count": null,
   "id": "e9e30e9c-7a30-4ec9-a3f9-c37edc2e981f",
   "metadata": {},
   "outputs": [],
   "source": [
    "DELETE FROM students WHERE id = 1;"
   ]
  },
  {
   "cell_type": "markdown",
   "id": "165fc8d2-1619-4e09-9b94-2b94ec83a08f",
   "metadata": {},
   "source": [
    "This statement deletes the row from the \"students\" table where the ID is 1."
   ]
  },
  {
   "cell_type": "markdown",
   "id": "a35b9a03-a47b-462c-8e21-64b590aeadd9",
   "metadata": {},
   "source": [
    "Q4. What is DQL? Explain SELECT with an example."
   ]
  },
  {
   "cell_type": "markdown",
   "id": "872dab08-f9f4-403e-a22e-08a7a55a2fe5",
   "metadata": {},
   "source": [
    "Answer: DQL stands for Data Query Language, which is a subset of SQL used to retrieve data from a database. The most commonly used DQL command is SELECT, which allows you to fetch specific data from one or more tables based on specified criteria."
   ]
  },
  {
   "cell_type": "markdown",
   "id": "25f140a3-8f58-44b0-b04d-01fa18080365",
   "metadata": {},
   "source": [
    "Here's an example of using SELECT to retrieve data:"
   ]
  },
  {
   "cell_type": "code",
   "execution_count": null,
   "id": "5b4ca799-237e-458c-a5c8-b1b520d919b8",
   "metadata": {},
   "outputs": [],
   "source": [
    "SELECT name, age FROM students WHERE age >= 20;"
   ]
  },
  {
   "cell_type": "markdown",
   "id": "368b0f99-07cf-494d-814b-beebaf5eff9f",
   "metadata": {},
   "source": [
    "In this example, the SELECT statement is used to fetch the \"name\" and \"age\" columns from the \"students\" table. The WHERE clause is used to specify a condition (age >= 20) to filter the rows. This query will return the names and ages of all students whose age is 20 or above."
   ]
  },
  {
   "cell_type": "markdown",
   "id": "d91ad0e6-64a6-4663-aa81-983f21fc31c2",
   "metadata": {},
   "source": [
    "Q5. Explain Primary Key and Foreign Key."
   ]
  },
  {
   "cell_type": "markdown",
   "id": "a266823d-0ab3-4b62-9ae9-08857fc7e8ab",
   "metadata": {},
   "source": [
    "Primary Key: It is a unique identifier for a record in a table. It ensures each row has a distinct value, making it easy to identify and access specific records. For example, in a \"users\" table, the \"user_id\" column can be set as the primary key.\n",
    "\n",
    "Foreign Key: It establishes a relationship between two tables. It refers to the primary key of another table, linking the records between them. For instance, in an \"orders\" table, the \"customer_id\" column can be a foreign key referencing the primary key of the \"customers\" table, connecting orders to the respective customers."
   ]
  },
  {
   "cell_type": "markdown",
   "id": "c2c5993d-14a3-424b-8cb6-103d40e94e05",
   "metadata": {},
   "source": [
    "Q6. Write a python code to connect MySQL to python. Explain the cursor() and execute() method."
   ]
  },
  {
   "cell_type": "markdown",
   "id": "5d3a88cc-c01f-4178-836a-80af2252e8eb",
   "metadata": {},
   "source": [
    "Answer: Here is the code to connect MySQL to Python:"
   ]
  },
  {
   "cell_type": "code",
   "execution_count": null,
   "id": "c70a00dd-708f-4917-a578-dafa1e7f4ed9",
   "metadata": {},
   "outputs": [],
   "source": [
    "import mysql.connector\n",
    "\n",
    "# Establish connection\n",
    "connection = mysql.connector.connect(\n",
    "    host='localhost',\n",
    "    user='your_username',\n",
    "    password='your_password',\n",
    "    database='your_database'\n",
    ")\n",
    "\n",
    "if connection.is_connected():\n",
    "    print('Connected to MySQL database!')\n",
    "\n",
    "# Perform database operations\n",
    "\n",
    "# Close connection\n",
    "connection.close()\n"
   ]
  },
  {
   "cell_type": "markdown",
   "id": "398ce044-524f-44c7-8d69-959b65df69c8",
   "metadata": {},
   "source": [
    "The cursor() method creates a cursor object that allows executing SQL queries and fetching results. The execute() method runs an SQL query using the cursor and executes it on the connected database.\n",
    "\n",
    "Here is an example:"
   ]
  },
  {
   "cell_type": "code",
   "execution_count": null,
   "id": "2249ca3e-fcea-4ae0-942d-0789d0d90f3e",
   "metadata": {},
   "outputs": [],
   "source": [
    "cursor = connection.cursor()\n",
    "cursor.execute(\"SELECT * FROM users\")\n",
    "results = cursor.fetchall()\n",
    "for row in results:\n",
    "    print(row)\n",
    "cursor.close()\n"
   ]
  },
  {
   "cell_type": "markdown",
   "id": "c0fb0e7f-07c6-48b6-8e22-3826b996f527",
   "metadata": {},
   "source": [
    "In this example, cursor() creates a cursor object, execute() runs the SQL query to select all rows from the \"users\" table, fetchall() retrieves all the results, and the loop prints each row. Finally, cursor.close() closes the cursor."
   ]
  },
  {
   "cell_type": "markdown",
   "id": "b2687a27-8789-40ff-b76a-54f2283b30e3",
   "metadata": {},
   "source": [
    "Q7. Give the order of execution of SQL clauses in an SQL query."
   ]
  },
  {
   "cell_type": "markdown",
   "id": "0fcc5bb3-2a8e-4c62-b5bd-d834d6d78e32",
   "metadata": {},
   "source": [
    "Answer: Here is the order of exectuion of SQL clauses in an SQL query:"
   ]
  },
  {
   "cell_type": "markdown",
   "id": "936c1bdd-7305-42b5-9ac7-84b38c4f50a2",
   "metadata": {},
   "source": [
    "FROM: Specifies the table(s) from which to retrieve data.\n",
    "\n",
    "WHERE: Filters the data based on specified conditions.\n",
    "\n",
    "GROUP BY: Groups the data based on specified columns.\n",
    "\n",
    "HAVING: Filters the grouped data based on specified conditions.\n",
    "\n",
    "SELECT: Specifies the columns to be included in the result set.\n",
    "\n",
    "ORDER BY: Sorts the result set based on specified columns.\n",
    "\n",
    "LIMIT/OFFSET: Limits the number of rows returned or specifies a starting point for the result set."
   ]
  },
  {
   "cell_type": "code",
   "execution_count": null,
   "id": "0dbcfaed-0a4e-4d2a-aef2-1ac05bba3de3",
   "metadata": {},
   "outputs": [],
   "source": []
  }
 ],
 "metadata": {
  "kernelspec": {
   "display_name": "Python 3 (ipykernel)",
   "language": "python",
   "name": "python3"
  },
  "language_info": {
   "codemirror_mode": {
    "name": "ipython",
    "version": 3
   },
   "file_extension": ".py",
   "mimetype": "text/x-python",
   "name": "python",
   "nbconvert_exporter": "python",
   "pygments_lexer": "ipython3",
   "version": "3.10.8"
  }
 },
 "nbformat": 4,
 "nbformat_minor": 5
}
