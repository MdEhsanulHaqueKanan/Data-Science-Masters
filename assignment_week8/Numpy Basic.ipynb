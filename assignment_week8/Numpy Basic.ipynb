{
 "cells": [
  {
   "cell_type": "markdown",
   "id": "f9834201-3c03-4004-9912-1a69f9312f79",
   "metadata": {},
   "source": [
    "Consider the below code to answer further questions:"
   ]
  },
  {
   "cell_type": "code",
   "execution_count": 2,
   "id": "edb98f19-1531-44f8-b7c7-e02352b9799f",
   "metadata": {},
   "outputs": [],
   "source": [
    "import numpy as np\n",
    "list_ = [ '1', '2', '3', '4', '5' ]\n",
    "array_list = np.array(object = list_)"
   ]
  },
  {
   "cell_type": "markdown",
   "id": "65f7db8a-c236-48fc-85b5-d5e2e9f4fdc5",
   "metadata": {},
   "source": [
    "Q1. Is there any difference in the data type of variables list_ and array_list? If there is then write a code\n",
    "to print the data types of both the variables."
   ]
  },
  {
   "cell_type": "markdown",
   "id": "81f2c47f-bb42-4014-8fee-ed563e377417",
   "metadata": {},
   "source": [
    "Answer: Of course, there are differences. The first one is a lost. On the other hand, the second one is a numpy \"n\" dimensional array. Here is the code:"
   ]
  },
  {
   "cell_type": "code",
   "execution_count": 4,
   "id": "783f1fd0-8339-4c43-9948-c6676003fb88",
   "metadata": {},
   "outputs": [
    {
     "data": {
      "text/plain": [
       "list"
      ]
     },
     "execution_count": 4,
     "metadata": {},
     "output_type": "execute_result"
    }
   ],
   "source": [
    "type(list_)"
   ]
  },
  {
   "cell_type": "code",
   "execution_count": 5,
   "id": "70ac5d68-a7f7-4ecb-93a2-415d8a744293",
   "metadata": {},
   "outputs": [
    {
     "data": {
      "text/plain": [
       "numpy.ndarray"
      ]
     },
     "execution_count": 5,
     "metadata": {},
     "output_type": "execute_result"
    }
   ],
   "source": [
    "type(array_list)"
   ]
  },
  {
   "cell_type": "markdown",
   "id": "f27375d4-e7e7-4873-9278-e382b5a2417b",
   "metadata": {},
   "source": [
    "Q2. Write a code to print the data type of each and every element of both the variables list_ and\n",
    "array_list."
   ]
  },
  {
   "cell_type": "code",
   "execution_count": null,
   "id": "826c07bc-8216-4fc3-a22b-f456fdb7eee5",
   "metadata": {},
   "outputs": [],
   "source": [
    "Answer: Here is the code:"
   ]
  },
  {
   "cell_type": "code",
   "execution_count": 9,
   "id": "6ef25aa5-3413-4ce6-bcde-cb6c439a0508",
   "metadata": {},
   "outputs": [
    {
     "name": "stdout",
     "output_type": "stream",
     "text": [
      "<class 'str'>\n",
      "<class 'str'>\n",
      "<class 'str'>\n",
      "<class 'str'>\n",
      "<class 'str'>\n"
     ]
    }
   ],
   "source": [
    "# Print data types of elements in list_\n",
    "for item in list_:\n",
    "    print(type(item))"
   ]
  },
  {
   "cell_type": "code",
   "execution_count": 10,
   "id": "2adbec14-cdec-4e39-a425-a5352b9b9897",
   "metadata": {},
   "outputs": [
    {
     "name": "stdout",
     "output_type": "stream",
     "text": [
      "<class 'numpy.str_'>\n",
      "<class 'numpy.str_'>\n",
      "<class 'numpy.str_'>\n",
      "<class 'numpy.str_'>\n",
      "<class 'numpy.str_'>\n"
     ]
    }
   ],
   "source": [
    "# Print data types of elements in array_list\n",
    "for item in array_list:\n",
    "    print(type(item))"
   ]
  },
  {
   "cell_type": "markdown",
   "id": "d46ae6c9-a826-4d9e-93d5-f64b5911b7fe",
   "metadata": {},
   "source": [
    "Q3. Considering the following changes in the variable, array_list:"
   ]
  },
  {
   "cell_type": "code",
   "execution_count": 11,
   "id": "395df0e2-0b84-46d3-a014-7fd9089c5744",
   "metadata": {},
   "outputs": [],
   "source": [
    "array_list = np.array(object = list_, dtype = int)"
   ]
  },
  {
   "cell_type": "markdown",
   "id": "668cd75c-75a1-45ed-a3e7-efdc89a0fbbd",
   "metadata": {},
   "source": [
    "Will there be any difference in the data type of the elements present in both the variables, list_ and\n",
    "arra_list? If so then print the data types of each and every element present in both the variables, list_\n",
    "and arra_list."
   ]
  },
  {
   "cell_type": "markdown",
   "id": "d33d294f-a4a6-4598-9744-cc7dbde0a221",
   "metadata": {},
   "source": [
    "Answer: Yes, there will be a difference in the data type of the elements. Here is the code:"
   ]
  },
  {
   "cell_type": "code",
   "execution_count": 12,
   "id": "0046f34a-8438-4537-8828-8a85fc0bf073",
   "metadata": {},
   "outputs": [
    {
     "name": "stdout",
     "output_type": "stream",
     "text": [
      "<class 'str'>\n",
      "<class 'str'>\n",
      "<class 'str'>\n",
      "<class 'str'>\n",
      "<class 'str'>\n"
     ]
    }
   ],
   "source": [
    "# Print data types of elements in list_\n",
    "for item in list_:\n",
    "    print(type(item))"
   ]
  },
  {
   "cell_type": "code",
   "execution_count": 13,
   "id": "88c43c86-192f-48de-a6bd-cd9e93ef70d3",
   "metadata": {},
   "outputs": [
    {
     "name": "stdout",
     "output_type": "stream",
     "text": [
      "<class 'numpy.int64'>\n",
      "<class 'numpy.int64'>\n",
      "<class 'numpy.int64'>\n",
      "<class 'numpy.int64'>\n",
      "<class 'numpy.int64'>\n"
     ]
    }
   ],
   "source": [
    "# Print data types of elements in array_list\n",
    "for item in array_list:\n",
    "    print(type(item))"
   ]
  },
  {
   "cell_type": "markdown",
   "id": "dbadec38-06fc-445c-9423-40b8a2a0408b",
   "metadata": {},
   "source": [
    "As you can see, the data types of the elements in array_list have changed to numpy.int64 after converting them to integers."
   ]
  },
  {
   "cell_type": "markdown",
   "id": "ae5ed4da-614b-4c74-b9d9-575ce9b94d8b",
   "metadata": {},
   "source": [
    "Consider the below code to answer further questions:"
   ]
  },
  {
   "cell_type": "code",
   "execution_count": 15,
   "id": "349b942f-74ea-41fc-8e90-def8f091c6de",
   "metadata": {},
   "outputs": [],
   "source": [
    "import numpy as np\n",
    "num_list = [ [ 1 , 2 , 3 ] , [ 4 , 5 , 6 ] ]\n",
    "num_array = np.array(object = num_list)"
   ]
  },
  {
   "cell_type": "code",
   "execution_count": null,
   "id": "822bf707-f5ef-43ae-aac5-239e247c1eab",
   "metadata": {},
   "outputs": [],
   "source": [
    "Q4. Write a code to find the following characteristics of variable, num_array:\n",
    "(i) shape\n",
    "(ii) size"
   ]
  },
  {
   "cell_type": "markdown",
   "id": "9660f35f-2fe9-4f1b-bd88-ff206d91593a",
   "metadata": {},
   "source": [
    "Answer: To find the characteristics of the num_array variable, you can use the following code:"
   ]
  },
  {
   "cell_type": "code",
   "execution_count": 16,
   "id": "5a650080-8b46-4d5b-8f2e-d5ae9432a9d2",
   "metadata": {},
   "outputs": [
    {
     "name": "stdout",
     "output_type": "stream",
     "text": [
      "Shape: (2, 3)\n",
      "Size: 6\n"
     ]
    }
   ],
   "source": [
    "# (i) Shape of the array\n",
    "print(\"Shape:\", num_array.shape)\n",
    "\n",
    "# (ii) Size of the array\n",
    "print(\"Size:\", num_array.size)\n"
   ]
  },
  {
   "cell_type": "markdown",
   "id": "7a26649b-0187-4f77-be66-b5c179906cdd",
   "metadata": {},
   "source": [
    "Q5. Write a code to create numpy array of 3*3 matrix containing zeros only, using a numpy array\n",
    "creation function.\n",
    "[Hint: The size of the array will be 9 and the shape will be (3,3).]"
   ]
  },
  {
   "cell_type": "markdown",
   "id": "a1309e9b-003e-4f8b-91cd-fdd1b55a3ced",
   "metadata": {},
   "source": [
    "Answer: Here is the code:"
   ]
  },
  {
   "cell_type": "code",
   "execution_count": 17,
   "id": "43c35bd1-5e94-4421-9446-d815fc2d2856",
   "metadata": {},
   "outputs": [
    {
     "name": "stdout",
     "output_type": "stream",
     "text": [
      "[[0. 0. 0.]\n",
      " [0. 0. 0.]\n",
      " [0. 0. 0.]]\n"
     ]
    }
   ],
   "source": [
    "zeros_array = np.zeros((3, 3))\n",
    "print(zeros_array)"
   ]
  },
  {
   "cell_type": "markdown",
   "id": "e7664f10-a055-4d8b-974d-89088a3b7ae5",
   "metadata": {},
   "source": [
    "Q6. Create an identity matrix of shape (5,5) using numpy functions?\n",
    "[Hint: An identity matrix is a matrix containing 1 diagonally and other elements will be 0.]"
   ]
  },
  {
   "cell_type": "markdown",
   "id": "cba14513-f5b6-49be-a257-5a16e8023c7a",
   "metadata": {},
   "source": [
    "Answer: Here is the code:"
   ]
  },
  {
   "cell_type": "code",
   "execution_count": 18,
   "id": "09d791cb-decf-4d00-ae67-fbc3a1e5c200",
   "metadata": {},
   "outputs": [
    {
     "name": "stdout",
     "output_type": "stream",
     "text": [
      "[[1. 0. 0. 0. 0.]\n",
      " [0. 1. 0. 0. 0.]\n",
      " [0. 0. 1. 0. 0.]\n",
      " [0. 0. 0. 1. 0.]\n",
      " [0. 0. 0. 0. 1.]]\n"
     ]
    }
   ],
   "source": [
    "identity_matrix = np.eye(5)\n",
    "print(identity_matrix)"
   ]
  },
  {
   "cell_type": "code",
   "execution_count": null,
   "id": "429f1971-16ef-406b-a861-b77200361799",
   "metadata": {},
   "outputs": [],
   "source": []
  },
  {
   "cell_type": "code",
   "execution_count": null,
   "id": "afcde18b-040e-4298-acd1-acb1cf5d7996",
   "metadata": {},
   "outputs": [],
   "source": []
  },
  {
   "cell_type": "code",
   "execution_count": null,
   "id": "77034459-568b-49db-91a0-9256ea5e0089",
   "metadata": {},
   "outputs": [],
   "source": []
  },
  {
   "cell_type": "code",
   "execution_count": null,
   "id": "8e4bbf38-a841-4cc7-956a-154697481eb0",
   "metadata": {},
   "outputs": [],
   "source": []
  }
 ],
 "metadata": {
  "kernelspec": {
   "display_name": "Python 3 (ipykernel)",
   "language": "python",
   "name": "python3"
  },
  "language_info": {
   "codemirror_mode": {
    "name": "ipython",
    "version": 3
   },
   "file_extension": ".py",
   "mimetype": "text/x-python",
   "name": "python",
   "nbconvert_exporter": "python",
   "pygments_lexer": "ipython3",
   "version": "3.10.8"
  }
 },
 "nbformat": 4,
 "nbformat_minor": 5
}
