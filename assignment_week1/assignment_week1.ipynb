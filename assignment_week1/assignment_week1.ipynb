{
 "cells": [
  {
   "cell_type": "markdown",
   "id": "017b9cc0-211b-4bb2-b6ea-3063eeb5dd5d",
   "metadata": {},
   "source": [
    "Q1. Create one variable containing following type of data:\n",
    "(i) string\n",
    "(ii) list\n",
    "(iii) float\n",
    "(iv) tuple"
   ]
  },
  {
   "cell_type": "markdown",
   "id": "5bfacda8-9e2e-492e-91fa-6a9f84ea43ac",
   "metadata": {},
   "source": [
    "Answer:"
   ]
  },
  {
   "cell_type": "code",
   "execution_count": 1,
   "id": "c6f62668-a416-4167-a104-890910ea5f47",
   "metadata": {},
   "outputs": [],
   "source": [
    "l = [\"amazon\", [4, 5, 7], 1.1, (\"apple\", \"banana\", \"cherry\")]"
   ]
  },
  {
   "cell_type": "code",
   "execution_count": 2,
   "id": "a5966fb7-0598-4345-858d-6a84c7138b19",
   "metadata": {},
   "outputs": [
    {
     "data": {
      "text/plain": [
       "[4, 5, 7]"
      ]
     },
     "execution_count": 2,
     "metadata": {},
     "output_type": "execute_result"
    }
   ],
   "source": [
    "l[1]"
   ]
  },
  {
   "cell_type": "markdown",
   "id": "7f47e529-9326-4286-9dad-6e6eb84b374c",
   "metadata": {},
   "source": [
    "Q2. Given are some following variables containing data:\n",
    "(i) var1 = ''\n",
    "(ii) var2 = '[ DS , ML , Python]'\n",
    "(iii) var3 = [ 'DS' , 'ML' , 'Python' ]\n",
    "(iv) var4 = 1.\n",
    "What will be the data type of the above given variable."
   ]
  },
  {
   "cell_type": "code",
   "execution_count": null,
   "id": "d284115c-279e-4af5-8652-833d0283e08b",
   "metadata": {},
   "outputs": [],
   "source": [
    "Answer:\n",
    "(i) String\n",
    "(ii) String \n",
    "(iii) List \n",
    "(iv) Float    "
   ]
  },
  {
   "cell_type": "code",
   "execution_count": 5,
   "id": "bfff6c4a-d52e-4941-8f6c-de15e0b29e55",
   "metadata": {},
   "outputs": [
    {
     "data": {
      "text/plain": [
       "str"
      ]
     },
     "execution_count": 5,
     "metadata": {},
     "output_type": "execute_result"
    }
   ],
   "source": [
    "var1 = ''\n",
    "type(var1)"
   ]
  },
  {
   "cell_type": "code",
   "execution_count": 7,
   "id": "0ea518e3-d511-441d-bf40-2006955ccbbd",
   "metadata": {},
   "outputs": [
    {
     "data": {
      "text/plain": [
       "str"
      ]
     },
     "execution_count": 7,
     "metadata": {},
     "output_type": "execute_result"
    }
   ],
   "source": [
    "var2 = '[ DS , ML , Python]'\n",
    "type(var2)"
   ]
  },
  {
   "cell_type": "code",
   "execution_count": 8,
   "id": "af596015-11b0-4775-8349-d52b0b27a120",
   "metadata": {},
   "outputs": [
    {
     "data": {
      "text/plain": [
       "list"
      ]
     },
     "execution_count": 8,
     "metadata": {},
     "output_type": "execute_result"
    }
   ],
   "source": [
    "var3 = [ 'DS' , 'ML' , 'Python' ]\n",
    "type(var3)"
   ]
  },
  {
   "cell_type": "code",
   "execution_count": 9,
   "id": "0b20d9b6-a7de-4896-933c-d73a5d8c8c3f",
   "metadata": {},
   "outputs": [
    {
     "data": {
      "text/plain": [
       "float"
      ]
     },
     "execution_count": 9,
     "metadata": {},
     "output_type": "execute_result"
    }
   ],
   "source": [
    "var4 = 1.\n",
    "type(var4)"
   ]
  },
  {
   "cell_type": "markdown",
   "id": "92b0b515-0aac-49d9-aef3-abff919adab4",
   "metadata": {},
   "source": [
    "Q3. Explain the use of the following operators using an example:\n",
    "(i) /\n",
    "(ii) %\n",
    "(iii) //\n",
    "(iv) **"
   ]
  },
  {
   "cell_type": "markdown",
   "id": "75b668d1-60af-4332-87cc-1241a3df965a",
   "metadata": {},
   "source": [
    "Answer:\n",
    "(i) / is used to divide two numeric values and obtain their quotient.\n",
    "(ii) % returns the remainder of dividing two numbers.\n",
    "(iii) // returns the quotient of the division operation—as an integer or a floating point number\n",
    "(iv) ** is used to calculate the power of a number"
   ]
  },
  {
   "cell_type": "markdown",
   "id": "d2718686-3ece-4c19-94a3-186d6c9868e8",
   "metadata": {},
   "source": [
    "Q4. Create a list of length 10 of your choice containing multiple types of data. Using for loop print the\n",
    "element and its data type."
   ]
  },
  {
   "cell_type": "markdown",
   "id": "cb87709a-3f38-4f8e-a8be-a03c2c1783cd",
   "metadata": {},
   "source": [
    "Answer:"
   ]
  },
  {
   "cell_type": "code",
   "execution_count": 14,
   "id": "4e47bea0-a17a-4a8d-86eb-b7a26b4ec5ec",
   "metadata": {},
   "outputs": [
    {
     "name": "stdout",
     "output_type": "stream",
     "text": [
      "12\n",
      "<class 'int'>\n",
      "34\n",
      "<class 'int'>\n",
      "43.12\n",
      "<class 'float'>\n",
      "abacus\n",
      "<class 'str'>\n",
      "True\n",
      "<class 'bool'>\n",
      "(5+6j)\n",
      "<class 'complex'>\n",
      "55\n",
      "<class 'int'>\n",
      "76\n",
      "<class 'int'>\n",
      "89\n",
      "<class 'int'>\n",
      "222\n",
      "<class 'int'>\n"
     ]
    }
   ],
   "source": [
    "l = [12, 34, 43.12, \"abacus\", True,  5+6j, 55, 76, 89, 222]\n",
    "for i in l:\n",
    "    print(i)\n",
    "    print(type(i))"
   ]
  },
  {
   "cell_type": "markdown",
   "id": "b93a5686-1764-40f3-8bf2-a75560cf63b1",
   "metadata": {},
   "source": [
    "Q5. Using a while loop, verify if the number A is purely divisible by number B and if so then how many\n",
    "times it can be divisible."
   ]
  },
  {
   "cell_type": "code",
   "execution_count": 6,
   "id": "e888aaf5-49dc-44fe-9765-580c53dfa1d1",
   "metadata": {},
   "outputs": [
    {
     "name": "stdout",
     "output_type": "stream",
     "text": [
      "A is divisible by B, and it can be divided 1 times.\n"
     ]
    }
   ],
   "source": [
    "A = 24\n",
    "B = 4\n",
    "count = 0\n",
    "\n",
    "while A % B == 0:\n",
    "    A = A / B\n",
    "    count += 1\n",
    "\n",
    "if count > 0:\n",
    "    print(f\"A is divisible by B, and it can be divided {count} times.\")\n",
    "else:\n",
    "    print(\"A is not divisible by B.\")\n",
    "      "
   ]
  },
  {
   "cell_type": "markdown",
   "id": "82e3b3ee-009c-4e29-80f8-1e5d257673e7",
   "metadata": {},
   "source": [
    "Q6. Create a list containing 25 int type data. Using for loop and if-else condition print if the element is\n",
    "divisible by 3 or not."
   ]
  },
  {
   "cell_type": "code",
   "execution_count": 16,
   "id": "1478cc0d-7c3f-4628-be21-8e595da957f7",
   "metadata": {},
   "outputs": [
    {
     "name": "stdout",
     "output_type": "stream",
     "text": [
      "1 is not divisible by 3.\n",
      "2 is not divisible by 3.\n",
      "3 is divisible by 3.\n",
      "4 is not divisible by 3.\n",
      "5 is not divisible by 3.\n",
      "6 is divisible by 3.\n",
      "7 is not divisible by 3.\n",
      "8 is not divisible by 3.\n",
      "9 is divisible by 3.\n",
      "10 is not divisible by 3.\n",
      "11 is not divisible by 3.\n",
      "12 is divisible by 3.\n",
      "13 is not divisible by 3.\n",
      "14 is not divisible by 3.\n",
      "15 is divisible by 3.\n",
      "16 is not divisible by 3.\n",
      "17 is not divisible by 3.\n",
      "18 is divisible by 3.\n",
      "19 is not divisible by 3.\n",
      "20 is not divisible by 3.\n",
      "21 is divisible by 3.\n",
      "22 is not divisible by 3.\n",
      "23 is not divisible by 3.\n",
      "24 is divisible by 3.\n",
      "25 is not divisible by 3.\n"
     ]
    }
   ],
   "source": [
    "l = [1, 2, 3, 4, 5, 6, 7, 8, 9, 10, 11, 12, 13, 14, 15, 16, 17, 18, 19, 20, 21, 22, 23, 24, 25]\n",
    "for i in l:\n",
    "    if i%3 == 0:\n",
    "        print(str(i) + \" is divisible by 3.\")\n",
    "    else:\n",
    "        print(str(i) + \" is not divisible by 3.\")"
   ]
  },
  {
   "cell_type": "markdown",
   "id": "269999eb-3773-4c6f-bfa2-95e06e7220f5",
   "metadata": {},
   "source": [
    "Q7. What do you understand about mutable and immutable data types? Give examples for both showing\n",
    "this property."
   ]
  },
  {
   "cell_type": "markdown",
   "id": "110a50c5-a08c-4044-bfe8-3c912127ab7a",
   "metadata": {},
   "source": [
    "Answer: Mutable data types are those whose values can be changed or new values can be assigned to them. Examples include List, Sets, and Dictionary.\n",
    "On the other hand, immutable datatypes are those whose values cannot be modified after they have been created. Examples include String, Tuple, and Complex.  "
   ]
  }
 ],
 "metadata": {
  "kernelspec": {
   "display_name": "Python 3 (ipykernel)",
   "language": "python",
   "name": "python3"
  },
  "language_info": {
   "codemirror_mode": {
    "name": "ipython",
    "version": 3
   },
   "file_extension": ".py",
   "mimetype": "text/x-python",
   "name": "python",
   "nbconvert_exporter": "python",
   "pygments_lexer": "ipython3",
   "version": "3.10.8"
  }
 },
 "nbformat": 4,
 "nbformat_minor": 5
}
